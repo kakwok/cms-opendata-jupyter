{
 "cells": [
  {
   "cell_type": "code",
   "execution_count": 1,
   "metadata": {},
   "outputs": [
    {
     "name": "stdout",
     "output_type": "stream",
     "text": [
      "Welcome to JupyROOT 6.22/00\n"
     ]
    }
   ],
   "source": [
    "import ROOT as r\n",
    "import numpy as np\n",
    "import math"
   ]
  },
  {
   "cell_type": "markdown",
   "metadata": {},
   "source": [
    "### Comparing simulation yields to data\n",
    "\n",
    "Often we want to compare the event yields of simulation samples to actual data, to see if number of events you get from data matches what your simulation predicts.\n",
    "\n",
    "To relate the two numbers (MC yields v.s. data), we just have to remember the expected number of events from any process at LHC is given by\n",
    "\n",
    "$$ N = L \\times \\sigma \\times Br$$\n",
    "where \n",
    "\n",
    "$\\begin{align}\n",
    "L      &= \\text{integrated luminosity of data collected} \\\\ \n",
    "\\sigma &= \\text{cross section of the process}\\\\\n",
    "Br     &= \\text{Branching ratio of the process into specific final states}\n",
    "\\end{align}\n",
    "$ \n",
    "\n",
    "For example, if a process A has a cross section of 1 fb, and you have collected 10 /fb of data, the expected number of events in data would be 10 events.\n",
    "If you have generated 50 simuated events (more than what you expect in data), you simply need to scale each event with a weight of w,\n",
    "\n",
    "$\\begin{align}\n",
    "w &= (L \\times \\sigma )/ N_{sample} \\\\\n",
    "   &  = 10 \\times 1 / 50\\\\\n",
    "    & = 0.2\n",
    "     \\end{align}\n",
    "$\n",
    "\n",
    "Let's see how to do this in ROOT in practice."
   ]
  },
  {
   "cell_type": "markdown",
   "metadata": {},
   "source": [
    "### Filling a histogram with a weight"
   ]
  },
  {
   "cell_type": "code",
   "execution_count": 2,
   "metadata": {},
   "outputs": [],
   "source": [
    "c = r.TCanvas('c1','c1',800,600)\n",
    "h = r.TH1F('h_test','Test',10,0,10)"
   ]
  },
  {
   "cell_type": "code",
   "execution_count": 3,
   "metadata": {},
   "outputs": [
    {
     "data": {
      "text/plain": [
       "6"
      ]
     },
     "execution_count": 3,
     "metadata": {},
     "output_type": "execute_result"
    }
   ],
   "source": [
    "h.Fill(5,2)"
   ]
  },
  {
   "cell_type": "code",
   "execution_count": 4,
   "metadata": {},
   "outputs": [
    {
     "data": {
      "text/plain": [
       "1.0"
      ]
     },
     "execution_count": 4,
     "metadata": {},
     "output_type": "execute_result"
    }
   ],
   "source": [
    "h.GetEntries()"
   ]
  },
  {
   "cell_type": "code",
   "execution_count": 5,
   "metadata": {},
   "outputs": [
    {
     "data": {
      "image/png": "[encoded data removed]",
      "text/plain": [
       "<IPython.core.display.Image object>"
      ]
     },
     "metadata": {},
     "output_type": "display_data"
    }
   ],
   "source": [
    "h.Draw()\n",
    "c.Draw()"
   ]
  },
  {
   "cell_type": "markdown",
   "metadata": {},
   "source": [
    "### Comparing Z-peak from simulation with data\n",
    "\n",
    "Let's do a concrete exercise with the dataset we have at hand.\n",
    "\n",
    "The cross-section for the simulation dataset (`DYToMuMu_M-20_CT10_8TeV-powheg-pythia6`) is **1870** pb, since the Z-boson is set to decay to muons during the event generation, the branching ratio has been incoporated in the cross section value.\n",
    "\n",
    "As for the data, the full luminosity of 2012 data-taking runs is around 20 fb$^{-1}$, but we are only processing a fraction of the data. If we sum up the luminosity collected in the released data, that corresponds to a luminosity of 4.42 fb$^{-1}$ = **4420** pb$^{-1}$\n",
    "\n",
    "Therefore, the expected total number of Z-to-mumu events in the data is \n",
    "\n",
    "$\n",
    "\\begin{align}\n",
    "   N = 1870 * 4420 = 8265400\n",
    "\\end{align}\n",
    "$\n",
    "\n",
    "[1] Open data record for MC dataset : http://opendata.cern.ch/record/7741\n",
    "\n",
    "[2] Open data record for parked data: http://opendata.cern.ch/record/7741"
   ]
  },
  {
   "cell_type": "code",
   "execution_count": 3,
   "metadata": {},
   "outputs": [],
   "source": [
    "## Getting the data-files as before\n",
    "dy_mc      = r.TFile('dy_mc.root')\n",
    "data       = r.TFile(\"Run2012B_DoubleMuParked_nanoaod.root\")"
   ]
  },
  {
   "cell_type": "code",
   "execution_count": 4,
   "metadata": {},
   "outputs": [
    {
     "data": {
      "text/plain": [
       "239370L"
      ]
     },
     "execution_count": 4,
     "metadata": {},
     "output_type": "execute_result"
    }
   ],
   "source": [
    "## Let's check the number of events in each file\n",
    "## The simulation dataset is small enough to be processed in this notebook\n",
    "dy_mc.Get('aod2nanoaod/Events').GetEntries()"
   ]
  },
  {
   "cell_type": "code",
   "execution_count": 5,
   "metadata": {},
   "outputs": [],
   "source": [
    "#For the datafile, we are processing only a fraction of all the data"
   ]
  },
  {
   "cell_type": "code",
   "execution_count": 6,
   "metadata": {},
   "outputs": [
    {
     "data": {
      "text/plain": [
       "16922L"
      ]
     },
     "execution_count": 6,
     "metadata": {},
     "output_type": "execute_result"
    }
   ],
   "source": [
    "data.Get('aod2nanoaod/Events').GetEntries()"
   ]
  },
  {
   "cell_type": "markdown",
   "metadata": {},
   "source": [
    "#### How much luminosity do we have in this datafile?\n",
    "\n",
    "From (http://opendata.cern.ch/record/7741), the full luminosity 4.42 fb$^{-1}$ corresponds to 29,308,627 events.\n",
    "\n",
    "Therefore, by simple proportion, 16,922 corresponds to 0.002551 fb$^{-1}$ or **2.551** pb$^{-1}$"
   ]
  },
  {
   "cell_type": "code",
   "execution_count": 30,
   "metadata": {},
   "outputs": [
    {
     "name": "stdout",
     "output_type": "stream",
     "text": [
      "Effective luminosity of in this file is 2.5520 pb \n",
      "\n",
      "Expected number of Z-to-mu-mu events in this file is 4773.2368 \n",
      "\n",
      "We should weight each event in the simulation by a factor of 0.0955\n"
     ]
    }
   ],
   "source": [
    "N_mc     = 50000   #For the sake of processing time, let's process only 50k MC events\n",
    "xSection = 1870.4\n",
    "\n",
    "fulldata = 29308627\n",
    "tinydata = data.Get('aod2nanoaod/Events').GetEntries()\n",
    "\n",
    "lumi = (4.42 *1000)*tinydata/fulldata\n",
    "print('Effective luminosity of in this file is %.4f pb \\n'%lumi)\n",
    "\n",
    "print('Expected number of Z-to-mu-mu events in this file is %.4f \\n'%(lumi* xSection))\n",
    "\n",
    "weight = lumi * xSection / (N_mc) \n",
    "print('We should weight each event in the simulation by a factor of %.4f'%weight)"
   ]
  },
  {
   "cell_type": "markdown",
   "metadata": {},
   "source": [
    "### Setting up the event-loop"
   ]
  },
  {
   "cell_type": "code",
   "execution_count": 17,
   "metadata": {},
   "outputs": [],
   "source": [
    "## Same functions as before\n",
    "def invmass(pt,phi,eta,mass):\n",
    "    m = 0\n",
    "    px = pt[0]*np.cos(phi[0])+pt[1]*np.cos(phi[1])\n",
    "    py = pt[0]*np.sin(phi[0])+pt[1]*np.sin(phi[1])\n",
    "    theta0 = 2.*np.arctan(np.exp(-eta[0]))\n",
    "    theta1 = 2.*np.arctan(np.exp(-eta[1]))\n",
    "    pz = pt[0]/np.tan(theta0) + pt[1]/np.tan(theta1)\n",
    "    e0 = np.sqrt(pt[0]**2 + (pt[0]/np.tan(theta0))**2 + mass[0]**2)\n",
    "    e1 = np.sqrt(pt[1]**2 + (pt[1]/np.tan(theta1))**2 + mass[1]**2)\n",
    "    \n",
    "    m = np.sqrt((e0+e1)**2 - px**2 - py**2 - pz**2)\n",
    "    return m\n",
    "\n",
    "def deltaPhi(phi1, phi2):\n",
    "    x = np.abs(phi1 - phi2)\n",
    "    if x >=  math.pi: \n",
    "        x = 2.*math.pi - x\n",
    "    return x\n",
    "\n",
    "def selectMuons(muons):\n",
    "    select = False\n",
    "    if (muons['n']==2 and np.all(muons['isTight'])\n",
    "        and muons['charge'][0]*muons['charge'][1]<0\n",
    "        and muons['pt'][0]>25 and muons['pt'][1]>10\n",
    "        and abs(muons['eta'][0])<2.1 and abs(muons['eta'][1])<2.4\n",
    "        and muons['iso'][0]<0.12 and muons['eta'][1]<0.2):\n",
    "            select = True\n",
    "    return select"
   ]
  },
  {
   "cell_type": "markdown",
   "metadata": {},
   "source": [
    "### Define the histograms to contain the results"
   ]
  },
  {
   "cell_type": "code",
   "execution_count": 9,
   "metadata": {},
   "outputs": [],
   "source": [
    "h_dimuon_mass_mc   = r.TH1F('DiMuon_mass_mc','DiMuon_mass_mc',50,80,100)\n",
    "h_dimuon_mass_data = r.TH1F('DiMuon_mass_data','DiMuon_mass_data',50,80,100)\n",
    "\n",
    "h_dimuon_mass_mc.Sumw2()\n",
    "h_dimuon_mass_data.Sumw2()"
   ]
  },
  {
   "cell_type": "code",
   "execution_count": 18,
   "metadata": {},
   "outputs": [],
   "source": [
    "h_dimuon_mass_data.Reset()\n",
    "h_dimuon_mass_mc.Reset()"
   ]
  },
  {
   "cell_type": "markdown",
   "metadata": {},
   "source": [
    "### Define a function to fill the histogram\n",
    "\n",
    "We want to process the simulation and data in the exact same way, in order for them to match.\n",
    "\n",
    "Therefore, we can define a function, taking a `TTree` as input, with `weight` and number of events to process `N` as arguments"
   ]
  },
  {
   "cell_type": "code",
   "execution_count": 10,
   "metadata": {},
   "outputs": [],
   "source": [
    "def FillHistogram(t,h_dimuon_mass,weight,N=-1):\n",
    "    if N==-1:\n",
    "        #Process all the events by default\n",
    "        nEntries = t.GetEntries()\n",
    "    else:\n",
    "        nEntries = N\n",
    "    print('Processing %s events in the tree'%nEntries)\n",
    "    for i in range(0,nEntries):\n",
    "        t.GetEntry(i)\n",
    "        nMuon   = t.nMuon\n",
    "        pt      = np.array(t.Muon_pt)          # note: this is an array\n",
    "        phi     = np.array(t.Muon_phi)         # note: this is an array\n",
    "        eta     = np.array(t.Muon_eta)         # note: this is an array \n",
    "        mass    = np.array(t.Muon_mass)        # note: this is an array\n",
    "        isTight = np.array(t.Muon_tightId)     # note: this is an array\n",
    "        charge  = np.array(t.Muon_charge)      # note: this is an array\n",
    "        iso     = np.array(t.Muon_pfRelIso04_all)\n",
    "        muons   = {\n",
    "            'n':nMuon,\n",
    "            'pt':pt,\n",
    "            'phi':phi,\n",
    "            'eta':eta,\n",
    "            'isTight':isTight,\n",
    "            'charge':charge,\n",
    "            'iso':iso,\n",
    "        }\n",
    "        if selectMuons(muons):\n",
    "            h_dimuon_mass.Fill(invmass(pt,phi,eta,mass),weight)\n",
    "\n",
    "    h_dimuon_mass.GetXaxis().SetTitle('m_{#mu#mu}[GeV]')\n",
    "    return "
   ]
  },
  {
   "cell_type": "code",
   "execution_count": 11,
   "metadata": {},
   "outputs": [],
   "source": [
    "# get the tree from the file\n",
    "t_mc = dy_mc.Get('aod2nanoaod/Events')\n",
    "t_data = data.Get('aod2nanoaod/Events')"
   ]
  },
  {
   "cell_type": "code",
   "execution_count": 19,
   "metadata": {},
   "outputs": [
    {
     "name": "stdout",
     "output_type": "stream",
     "text": [
      "Processing 50000 events in the tree\n"
     ]
    }
   ],
   "source": [
    "# For simulation, we want to fill the histogram with a weight we have computed before\n",
    "FillHistogram(t_mc,h_dimuon_mass_mc,weight,N_mc)"
   ]
  },
  {
   "cell_type": "code",
   "execution_count": 20,
   "metadata": {},
   "outputs": [
    {
     "name": "stdout",
     "output_type": "stream",
     "text": [
      "Processing 16922 events in the tree\n"
     ]
    }
   ],
   "source": [
    "# For data, we want to set the weight to 1.0\n",
    "FillHistogram(t_data,h_dimuon_mass_data,1.0)"
   ]
  },
  {
   "cell_type": "markdown",
   "metadata": {},
   "source": [
    "### Finally, let's draw both histogram together for comparison"
   ]
  },
  {
   "cell_type": "code",
   "execution_count": 21,
   "metadata": {
    "scrolled": false
   },
   "outputs": [
    {
     "data": {
      "text/plain": [
       "<cppyy.gbl.TLegend object at 0x7f808a21f510>"
      ]
     },
     "execution_count": 21,
     "metadata": {},
     "output_type": "execute_result"
    },
    {
     "data": {
      "image/png": "[encoded data removed]",
      "text/plain": [
       "<IPython.core.display.Image object>"
      ]
     },
     "metadata": {},
     "output_type": "display_data"
    }
   ],
   "source": [
    "h_dimuon_mass_data.SetStats(0)\n",
    "h_dimuon_mass_mc.SetLineColor(r.kBlue)\n",
    "h_dimuon_mass_mc.SetFillColor(0)\n",
    "h_dimuon_mass_data.Draw()\n",
    "h_dimuon_mass_mc.Draw('same hist')\n",
    "c.Draw()\n",
    "c.BuildLegend(0.7,0.7,0.9,0.9)"
   ]
  },
  {
   "cell_type": "markdown",
   "metadata": {},
   "source": [
    "The data-MC agreement is not bad with this very simple example.\n",
    "\n",
    "\n",
    "As the data sample is very tiny, fluctuation in data could make the comparison with simulation difficult."
   ]
  },
  {
   "cell_type": "markdown",
   "metadata": {},
   "source": [
    "### Dataset for H to 4l analysis\n",
    "\n",
    "With the above knowledge, you can process the simulation files in the H to 4l analysis and compare them with data.\n",
    "\n",
    "Here are the relevant data that you will need to compute the weights for respective simulation samples.\n",
    "\n",
    "Can you compute the weights below?\n",
    "\n",
    "| Sample Name  | cross-section(pb)  | Nevents  |\n",
    "|---       | ---                | --- |\n",
    "|ZZto4mu   |   7.6865000E-02    | 1499064  |\n",
    "|ZZto4e    |   7.7241300E-02    | 1499093  |\n",
    "|ZZto2e2mu |   1.7656500E-01    | 1497445  |\n",
    "|DYJets    |   2.7903452E+03    | 30458871 |\n",
    "|SMHiggs   |   1.2932700E+01    | 299973   |\n",
    "\n",
    "|Dataset | Luminosity(/pb)|\n",
    "|---| ---|\n",
    "|2012B |4410|\n",
    "|2012C |7060|"
   ]
  },
  {
   "cell_type": "code",
   "execution_count": 21,
   "metadata": {},
   "outputs": [],
   "source": [
    "### Compute the weights here"
   ]
  },
  {
   "cell_type": "markdown",
   "metadata": {},
   "source": [
    "#### Extension: To handle more than 1 histograms, you may use a more generic function like this"
   ]
  },
  {
   "cell_type": "code",
   "execution_count": 22,
   "metadata": {},
   "outputs": [],
   "source": [
    "def FillHistogram_extended(t,histograms,weight,N=-1):\n",
    "    if N==-1:\n",
    "        #Process all the events by default\n",
    "        nEntries = t.GetEntries()\n",
    "    else:\n",
    "        nEntries = N\n",
    "    print('Processing %s events in the tree'%nEntries)\n",
    "    for i in range(0,nEntries):\n",
    "        t.GetEntry(i)\n",
    "        nMuon   = t.nMuon\n",
    "        pt      = np.array(t.Muon_pt)          # note: this is an array\n",
    "        phi     = np.array(t.Muon_phi)         # note: this is an array\n",
    "        eta     = np.array(t.Muon_eta)         # note: this is an array \n",
    "        mass    = np.array(t.Muon_mass)        # note: this is an array\n",
    "        isTight = np.array(t.Muon_tightId)     # note: this is an array\n",
    "        charge  = np.array(t.Muon_charge)      # note: this is an array\n",
    "        iso     = np.array(t.Muon_pfRelIso04_all)\n",
    "        muons   = {\n",
    "            'n':nMuon,\n",
    "            'pt':pt,\n",
    "            'phi':phi,\n",
    "            'eta':eta,\n",
    "            'isTight':isTight,\n",
    "            'charge':charge,\n",
    "            'iso':iso\n",
    "        }\n",
    "        quantity={}\n",
    "        if selectMuons(muons):\n",
    "            quantity['mass']=invmass(pt,phi,eta,mass)\n",
    "            quantity['pt0'] =muons['pt'][0]\n",
    "            for histogram in histograms:\n",
    "                histogram['h'].Fill(quantity[histogram['fill_var']],weight)\n",
    "            #h_dimuon_mass.Fill(invmass(pt,phi,eta,mass),weight)\n",
    "    return "
   ]
  },
  {
   "cell_type": "code",
   "execution_count": 24,
   "metadata": {},
   "outputs": [
    {
     "name": "stderr",
     "output_type": "stream",
     "text": [
      "Warning in <TFile::Append>: Replacing existing TH1: DiMuon_mass_mc (Potential memory leak).\n",
      "Warning in <TFile::Append>: Replacing existing TH1: DiMuon_mass_data (Potential memory leak).\n"
     ]
    }
   ],
   "source": [
    "h_dimuon_mass_mc   = r.TH1F('DiMuon_mass_mc','DiMuon_mass_mc',50,80,100)\n",
    "h_dimuon_pt0_mc   = r.TH1F('DiMuon_pt_mc','DiMuon_pt_mc',50,0,200)\n",
    "\n",
    "h_dimuon_mass_data  = r.TH1F('DiMuon_mass_data','DiMuon_mass_data',50,80,100)\n",
    "h_dimuon_pt0_data   = r.TH1F('DiMuon_pt_data','DiMuon_pt_data',50,0,200)\n",
    "\n",
    "\n",
    "h_mc_list = [\n",
    "    {'h':h_dimuon_mass_mc, 'fill_var':\"mass\"},\n",
    "    {'h':h_dimuon_pt0_mc, 'fill_var':\"pt0\"},\n",
    "]\n",
    "h_data_list = [\n",
    "    {'h':h_dimuon_mass_data, 'fill_var':\"mass\"},\n",
    "    {'h':h_dimuon_pt0_data, 'fill_var':\"pt0\"},\n",
    "]\n",
    "for hist in h_mc_list+h_data_list:\n",
    "    hist['h'].Sumw2()"
   ]
  },
  {
   "cell_type": "code",
   "execution_count": 25,
   "metadata": {},
   "outputs": [
    {
     "name": "stdout",
     "output_type": "stream",
     "text": [
      "Processing 50000 events in the tree\n"
     ]
    }
   ],
   "source": [
    "FillHistogram_extended(t_mc,h_mc_list,weight,N_mc)"
   ]
  },
  {
   "cell_type": "code",
   "execution_count": 26,
   "metadata": {},
   "outputs": [
    {
     "name": "stdout",
     "output_type": "stream",
     "text": [
      "Processing 16922 events in the tree\n"
     ]
    }
   ],
   "source": [
    "FillHistogram_extended(t_data,h_data_list,1.0)"
   ]
  },
  {
   "cell_type": "code",
   "execution_count": 27,
   "metadata": {},
   "outputs": [
    {
     "data": {
      "text/plain": [
       "<cppyy.gbl.TLegend object at 0x7f808b6bae00>"
      ]
     },
     "execution_count": 27,
     "metadata": {},
     "output_type": "execute_result"
    },
    {
     "data": {
      "image/png": "[encoded data removed]",
      "text/plain": [
       "<IPython.core.display.Image object>"
      ]
     },
     "metadata": {},
     "output_type": "display_data"
    }
   ],
   "source": [
    "h_dimuon_pt0_data.SetStats(0)\n",
    "h_dimuon_pt0_mc.SetLineColor(r.kBlue)\n",
    "h_dimuon_pt0_mc.SetFillColor(0)\n",
    "h_dimuon_pt0_data.Draw()\n",
    "h_dimuon_pt0_mc.Draw('same hist')\n",
    "c.Draw()\n",
    "c.BuildLegend(0.7,0.7,0.9,0.9)"
   ]
  },
  {
   "cell_type": "code",
   "execution_count": 28,
   "metadata": {},
   "outputs": [
    {
     "data": {
      "text/plain": [
       "<cppyy.gbl.TLegend object at 0x7f808b709e40>"
      ]
     },
     "execution_count": 28,
     "metadata": {},
     "output_type": "execute_result"
    },
    {
     "data": {
      "image/png": "[encoded data removed]",
      "text/plain": [
       "<IPython.core.display.Image object>"
      ]
     },
     "metadata": {},
     "output_type": "display_data"
    }
   ],
   "source": [
    "h_dimuon_mass_data.SetStats(0)\n",
    "h_dimuon_mass_mc.SetLineColor(r.kBlue)\n",
    "h_dimuon_mass_mc.SetFillColor(0)\n",
    "h_dimuon_mass_data.Draw()\n",
    "h_dimuon_mass_mc.Draw('same hist')\n",
    "c.Draw()\n",
    "c.BuildLegend(0.7,0.7,0.9,0.9)"
   ]
  },
  {
   "cell_type": "code",
   "execution_count": 29,
   "metadata": {},
   "outputs": [],
   "source": [
    "for hist in h_mc_list+h_data_list:\n",
    "    hist['h'].Reset()"
   ]
  },
  {
   "cell_type": "code",
   "execution_count": null,
   "metadata": {},
   "outputs": [],
   "source": []
  }
 ],
 "metadata": {
  "kernelspec": {
   "display_name": "Python 2",
   "language": "python",
   "name": "python2"
  },
  "language_info": {
   "codemirror_mode": {
    "name": "ipython",
    "version": 2
   },
   "file_extension": ".py",
   "mimetype": "text/x-python",
   "name": "python",
   "nbconvert_exporter": "python",
   "pygments_lexer": "ipython2",
   "version": "2.7.15"
  }
 },
 "nbformat": 4,
 "nbformat_minor": 2
}
