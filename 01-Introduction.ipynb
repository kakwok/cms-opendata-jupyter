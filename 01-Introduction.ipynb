{
 "cells": [
  {
   "cell_type": "markdown",
   "metadata": {},
   "source": [
    "## Getting the software ready\n",
    "\n",
    " 1. **Anaconda**\n",
    " \n",
    "In this tutorial, we are going to use the common analysis software in High Energy Experiment(HEP) called ROOT.\n",
    "The easiest way to obtain it on a MAC is through anaconda.\n",
    "\n",
    "Anaconda is a source-code distribution platform that help you download and manages a lot of scientific/data science packages. It helps you to maintain a correct dependency of each package,\n",
    "\n",
    "You can obtain anaconda here:\n",
    "https://www.anaconda.com/products/individual\n",
    "\n",
    "I would recommend using the python3 version.\n",
    "\n",
    " 2. **ROOT and Jupyter Notebook**\n",
    " \n",
    " The minimal packages we need are ROOT, matplot and jupyter notebook, which can be simply downloaded with:\n",
    "\n",
    "```\n",
    "conda install -c conda-forge root\n",
    "conda install -c conda-forge notebook\n",
    "conda install matplotlib\n",
    "```\n",
    "\n",
    "`ROOT` may have some trouble working with `python3`. You can create a virtual environment specifying root with `python2.7` like this:\n",
    "\n",
    "```\n",
    "conda create --name pyroot root python=2.7\n",
    "```\n",
    "\n",
    "And then you can enter and exit the environment with \n",
    "```\n",
    "conda activate pyroot\n",
    "conda deactivate pyroot\n",
    "```"
   ]
  },
  {
   "cell_type": "code",
   "execution_count": 1,
   "metadata": {},
   "outputs": [
    {
     "name": "stdout",
     "output_type": "stream",
     "text": [
      "Welcome to JupyROOT 6.22/00\n"
     ]
    }
   ],
   "source": [
    "#Import the packages\n",
    "import ROOT as r\n",
    "import numpy as np\n",
    "import math"
   ]
  },
  {
   "cell_type": "markdown",
   "metadata": {},
   "source": [
    "### The datasets\n",
    "\n",
    " 1. **Data - Double Muon data**\n",
    "\n",
    "We will be using proton-proton collision data at $\\sqrt{s}=8 TeV$ taken during 2012 by the CMS.\n",
    "\n",
    "Of course, we will not be using all of them, the dataset name \n",
    "\n",
    "`/DoubleMuParked/Run2012B-22Jan2013-v1/AOD`\n",
    "\n",
    "tells you with subset of data we will be using.\n",
    "\n",
    "Here `DoubleMuParked` means the data collected was triggered by a stream of High Level Trigger(HLT) trigger paths that targets muon, such as\n",
    "```\n",
    "HLT_DoubleMu5_IsoMu5\n",
    "```\n",
    "which means it requires two muons with at least 5 GeV and one of them is isolated from other particles.\n",
    "\n",
    "More details can be found in this record:\n",
    "http://opendata.cern.ch/record/6004\n",
    " \n",
    "If you need to re-download the file, you can do:\n",
    "\n",
    "`xrdcp root://eospublic.cern.ch//eos/root-eos/cms_opendata_2012_nanoaod/Run2012B_DoubleMuParked.root .`\n",
    "\n",
    " 1. **Z to $\\mu\\mu$ simultion**\n",
    "\n",
    "In part II of the execise, we will be comparing the data collected with simulation. These simulated datasets correspond to the collision data collected by the CMS experiment in 2012.\n",
    "\n",
    "The dataset name is: \n",
    "\n",
    "`/DYToMuMu_M-20_CT10_8TeV-powheg-pythia6/Summer12_DR53X-PU_S10_START53_V19-v1/AODSIM`\n",
    "\n",
    "The dataset name follows a specific convention to provide a self-explanatory description of the dataset.\n",
    "\n",
    "It follows a pattern like this:\n",
    "\n",
    "`/Primary dataset/Condition/Format/`\n",
    "\n",
    "The `Primary dataset` tells you about the process for a simulation dataset, and the data taking period and trigger stream that the data was collected if it is data.\n",
    "\n",
    "The `Condition` part tells you what reconstruction condition has been applied to the dataset.\n",
    "\n",
    "Lastly, the `Format` part tells you the dataformat. We will work with the simplified version of `MINIAOD` format, called `NanoAOD`, which I have prepared for you in advance.**\n",
    "\n",
    "The dataset is downloaded from here. The file `dy_mc.root` is a tiny fraction of the whole dataset, as we do not need the whole 14TB of events.  \n",
    "http://opendata.cern.ch/record/7741\n",
    "\n",
    "\n",
    "<br>\n",
    "<br>\n",
    "<br>\n",
    "\n",
    "\n",
    "** In case you are curious, the conversion is done also with cms open software here:\n",
    "\n",
    "https://github.com/cms-opendata-analyses/AOD2NanoAODOutreachTool"
   ]
  },
  {
   "cell_type": "markdown",
   "metadata": {},
   "source": [
    "## Exploring the data\n",
    "\n",
    "In this section, we will go over some of the basic operations to explore a root file, working with the file on real data first.\n"
   ]
  },
  {
   "cell_type": "code",
   "execution_count": 2,
   "metadata": {},
   "outputs": [
    {
     "name": "stdout",
     "output_type": "stream",
     "text": [
      "TFile**\t\tRun2012B_DoubleMuParked.root\tchain files\n",
      " TFile*\t\tRun2012B_DoubleMuParked.root\tchain files\n",
      "  KEY: TTree\tEvents;1\tEvents\n"
     ]
    }
   ],
   "source": [
    "#Opening a ROOT file\n",
    "f = r.TFile(\"Run2012B_DoubleMuParked.root\")\n",
    "# list the content of the file\n",
    "f.ls()"
   ]
  },
  {
   "cell_type": "markdown",
   "metadata": {},
   "source": [
    "### TTree\n",
    "TTree is the main object that holds the data. \n",
    "\n",
    "In general, all the objects in a TFile can be obtained with the `Get` Method"
   ]
  },
  {
   "cell_type": "code",
   "execution_count": 3,
   "metadata": {},
   "outputs": [],
   "source": [
    "t = f.Get(\"Events\")"
   ]
  },
  {
   "cell_type": "code",
   "execution_count": 15,
   "metadata": {},
   "outputs": [
    {
     "data": {
      "text/plain": [
       "29308627L"
      ]
     },
     "execution_count": 15,
     "metadata": {},
     "output_type": "execute_result"
    }
   ],
   "source": [
    "## See how many events are there in this tree\n",
    "t.GetEntries()"
   ]
  },
  {
   "cell_type": "markdown",
   "metadata": {},
   "source": [
    "### TTree.Show()\n",
    " There a several methods to see what's inside a tree\n",
    "\n",
    "`Show(n)` prints out the n-th event in the tree"
   ]
  },
  {
   "cell_type": "code",
   "execution_count": 4,
   "metadata": {},
   "outputs": [
    {
     "name": "stdout",
     "output_type": "stream",
     "text": [
      "======> EVENT:0\n",
      " run             = 194778\n",
      " luminosityBlock = 51\n",
      " event           = 12887941\n",
      " PV_npvs         = 1\n",
      " PV_x            = 0.0722459\n",
      " PV_y            = 0.0620935\n",
      " PV_z            = -0.0280992\n",
      " nMuon           = 2\n",
      " Muon_pt         = 52.0083, \n",
      "                  42.857\n",
      " Muon_eta        = 1.25232, \n",
      "                  1.65312\n",
      " Muon_phi        = 0.842417, \n",
      "                  -2.15482\n",
      " Muon_mass       = 0.105658, \n",
      "                  0.105658\n",
      " Muon_charge     = 1, \n",
      "                  -1\n",
      " Muon_pfRelIso03_all = -999, \n",
      "                  -999\n",
      " Muon_pfRelIso04_all = -999, \n",
      "                  -999\n",
      " Muon_tightId    = 0, \n",
      "                  0\n",
      " Muon_softId     = 0, \n",
      "                  0\n",
      " Muon_dxy        = -999, \n",
      "                  -999\n",
      " Muon_dxyErr     = -999, \n",
      "                  -999\n",
      " Muon_dz         = -999, \n",
      "                  -999\n",
      " Muon_dzErr      = -999, \n",
      "                  -999\n",
      " nElectron       = 0\n"
     ]
    }
   ],
   "source": [
    "t.Show(0)"
   ]
  },
  {
   "cell_type": "markdown",
   "metadata": {},
   "source": [
    "### TTree.Print()\n",
    "\n",
    "`Print()` gives you more information about the branches, esp dataformat. \n",
    "\n",
    "Here, `run/I` tells you that the branch `run` is of type integer\n",
    "\n",
    "whereas, `PV_x/F` means PV_x is a float\n",
    "\n",
    "Finally, `Muon_pt[nMuon]/F ` is a array of floats"
   ]
  },
  {
   "cell_type": "code",
   "execution_count": 5,
   "metadata": {},
   "outputs": [
    {
     "name": "stdout",
     "output_type": "stream",
     "text": [
      "******************************************************************************\n",
      "*Tree    :Events    : Events                                                 *\n",
      "*Entries : 29308627 : Total =      7292735124 bytes  File  Size = 3469131212 *\n",
      "*        :          : Tree compression factor =   2.10                       *\n",
      "******************************************************************************\n",
      "*Br    0 :run       : run/I                                                  *\n",
      "*Entries : 29308627 : Total  Size=  117248701 bytes  File Size  =     625943 *\n",
      "*Baskets :      151 : Basket Size=     980480 bytes  Compression= 187.31     *\n",
      "*............................................................................*\n",
      "*Br    1 :luminosityBlock : luminosityBlock/i                                *\n",
      "*Entries : 29308627 : Total  Size=  117250561 bytes  File Size  =     871296 *\n",
      "*Baskets :      151 : Basket Size=     980992 bytes  Compression= 134.57     *\n",
      "*............................................................................*\n",
      "*Br    2 :event     : event/l                                                *\n",
      "*Entries : 29308627 : Total  Size=  234486347 bytes  File Size  =  109983064 *\n",
      "*Baskets :      181 : Basket Size=    1961472 bytes  Compression=   2.13     *\n",
      "*............................................................................*\n",
      "*Br    3 :PV_npvs   : PV_npvs/I                                              *\n",
      "*Entries : 29308627 : Total  Size=  117249321 bytes  File Size  =   28010698 *\n",
      "*Baskets :      151 : Basket Size=     980992 bytes  Compression=   4.19     *\n",
      "*............................................................................*\n",
      "*Br    4 :PV_x      : PV_x/F                                                 *\n",
      "*Entries : 29308627 : Total  Size=  117248856 bytes  File Size  =   94604797 *\n",
      "*Baskets :      151 : Basket Size=     980480 bytes  Compression=   1.24     *\n",
      "*............................................................................*\n",
      "*Br    5 :PV_y      : PV_y/F                                                 *\n",
      "*Entries : 29308627 : Total  Size=  117248856 bytes  File Size  =   95653766 *\n",
      "*Baskets :      151 : Basket Size=     980480 bytes  Compression=   1.23     *\n",
      "*............................................................................*\n",
      "*Br    6 :PV_z      : PV_z/F                                                 *\n",
      "*Entries : 29308627 : Total  Size=  117248856 bytes  File Size  =  108788632 *\n",
      "*Baskets :      151 : Basket Size=     980480 bytes  Compression=   1.08     *\n",
      "*............................................................................*\n",
      "*Br    7 :nMuon     : nMuon/i                                                *\n",
      "*Entries : 29308627 : Total  Size=  117249011 bytes  File Size  =   18729788 *\n",
      "*Baskets :      151 : Basket Size=     980992 bytes  Compression=   6.26     *\n",
      "*............................................................................*\n",
      "*Br    8 :Muon_pt   : Muon_pt[nMuon]/F                                       *\n",
      "*Entries : 29308627 : Total  Size=  394164284 bytes  File Size  =  295310126 *\n",
      "*Baskets :      372 : Basket Size=    3302912 bytes  Compression=   1.33     *\n",
      "*............................................................................*\n",
      "*Br    9 :Muon_eta  : Muon_eta[nMuon]/F                                      *\n",
      "*Entries : 29308627 : Total  Size=  394164660 bytes  File Size  =  303701707 *\n",
      "*Baskets :      372 : Basket Size=    3302912 bytes  Compression=   1.30     *\n",
      "*............................................................................*\n",
      "*Br   10 :Muon_phi  : Muon_phi[nMuon]/F                                      *\n",
      "*Entries : 29308627 : Total  Size=  394164660 bytes  File Size  =  303522809 *\n",
      "*Baskets :      372 : Basket Size=    3302912 bytes  Compression=   1.30     *\n",
      "*............................................................................*\n",
      "*Br   11 :Muon_mass : Muon_mass[nMuon]/F                                     *\n",
      "*Entries : 29308627 : Total  Size=  394165036 bytes  File Size  =   48721096 *\n",
      "*Baskets :      372 : Basket Size=    3303424 bytes  Compression=   8.09     *\n",
      "*............................................................................*\n",
      "*Br   12 :Muon_charge : Muon_charge[nMuon]/I                                 *\n",
      "*Entries : 29308627 : Total  Size=  394165781 bytes  File Size  =   76548679 *\n",
      "*Baskets :      372 : Basket Size=    3303424 bytes  Compression=   5.15     *\n",
      "*............................................................................*\n",
      "*Br   13 :Muon_pfRelIso03_all : Muon_pfRelIso03_all[nMuon]/F                 *\n",
      "*Entries : 29308627 : Total  Size=  394168912 bytes  File Size  =  240799042 *\n",
      "*Baskets :      373 : Basket Size=    3304960 bytes  Compression=   1.64     *\n",
      "*............................................................................*\n",
      "*Br   14 :Muon_pfRelIso04_all : Muon_pfRelIso04_all[nMuon]/F                 *\n",
      "*Entries : 29308627 : Total  Size=  394168912 bytes  File Size  =  247649061 *\n",
      "*Baskets :      373 : Basket Size=    3304960 bytes  Compression=   1.59     *\n",
      "*............................................................................*\n",
      "*Br   15 :Muon_tightId : Muon_tightId[nMuon]/O                               *\n",
      "*Entries : 29308627 : Total  Size=  186492262 bytes  File Size  =   65191749 *\n",
      "*Baskets :      318 : Basket Size=    1563648 bytes  Compression=   2.86     *\n",
      "*............................................................................*\n",
      "*Br   16 :Muon_softId : Muon_softId[nMuon]/O                                 *\n",
      "*Entries : 29308627 : Total  Size=  186491940 bytes  File Size  =   64736784 *\n",
      "*Baskets :      318 : Basket Size=    1563648 bytes  Compression=   2.88     *\n",
      "*............................................................................*\n",
      "*Br   17 :Muon_dxy  : Muon_dxy[nMuon]/F                                      *\n",
      "*Entries : 29308627 : Total  Size=  394164660 bytes  File Size  =  261962018 *\n",
      "*Baskets :      372 : Basket Size=    3302912 bytes  Compression=   1.50     *\n",
      "*............................................................................*\n",
      "*Br   18 :Muon_dxyErr : Muon_dxyErr[nMuon]/F                                 *\n",
      "*Entries : 29308627 : Total  Size=  394165788 bytes  File Size  =  251490687 *\n",
      "*Baskets :      372 : Basket Size=    3303424 bytes  Compression=   1.57     *\n",
      "*............................................................................*\n",
      "*Br   19 :Muon_dz   : Muon_dz[nMuon]/F                                       *\n",
      "*Entries : 29308627 : Total  Size=  394164284 bytes  File Size  =  263076060 *\n",
      "*Baskets :      372 : Basket Size=    3302912 bytes  Compression=   1.50     *\n",
      "*............................................................................*\n",
      "*Br   20 :Muon_dzErr : Muon_dzErr[nMuon]/F                                   *\n",
      "*Entries : 29308627 : Total  Size=  394165412 bytes  File Size  =  250620460 *\n",
      "*Baskets :      372 : Basket Size=    3303424 bytes  Compression=   1.57     *\n",
      "*............................................................................*\n",
      "*Br   21 :nElectron : nElectron/i                                            *\n",
      "*Entries : 29308627 : Total  Size=  117249631 bytes  File Size  =   10162682 *\n",
      "*Baskets :      151 : Basket Size=     980992 bytes  Compression=  11.54     *\n",
      "*............................................................................*\n",
      "*Br   22 :Electron_pt : Electron_pt[nElectron]/F                             *\n",
      "*Entries : 29308627 : Total  Size=  141144100 bytes  File Size  =   35068757 *\n",
      "*Baskets :      307 : Basket Size=    1188864 bytes  Compression=   4.02     *\n",
      "*............................................................................*\n",
      "*Br   23 :Electron_eta : Electron_eta[nElectron]/F                           *\n",
      "*Entries : 29308627 : Total  Size=  141144411 bytes  File Size  =   35949461 *\n",
      "*Baskets :      307 : Basket Size=    1188864 bytes  Compression=   3.93     *\n",
      "*............................................................................*\n",
      "*Br   24 :Electron_phi : Electron_phi[nElectron]/F                           *\n",
      "*Entries : 29308627 : Total  Size=  141144411 bytes  File Size  =   35918075 *\n",
      "*Baskets :      307 : Basket Size=    1188864 bytes  Compression=   3.93     *\n",
      "*............................................................................*\n",
      "*Br   25 :Electron_mass : Electron_mass[nElectron]/F                         *\n",
      "*Entries : 29308627 : Total  Size=  141144722 bytes  File Size  =   36006506 *\n",
      "*Baskets :      307 : Basket Size=    1188864 bytes  Compression=   3.92     *\n",
      "*............................................................................*\n",
      "*Br   26 :Electron_charge : Electron_charge[nElectron]/I                     *\n",
      "*Entries : 29308627 : Total  Size=  141145337 bytes  File Size  =   16414767 *\n",
      "*Baskets :      307 : Basket Size=    1188864 bytes  Compression=   8.60     *\n",
      "*............................................................................*\n",
      "*Br   27 :Electron_pfRelIso03_all : Electron_pfRelIso03_all[nElectron]/F     *\n",
      "*Entries : 29308627 : Total  Size=  141147832 bytes  File Size  =   25051438 *\n",
      "*Baskets :      307 : Basket Size=    1189376 bytes  Compression=   5.63     *\n",
      "*............................................................................*\n",
      "*Br   28 :Electron_dxy : Electron_dxy[nElectron]/F                           *\n",
      "*Entries : 29308627 : Total  Size=  141144411 bytes  File Size  =   36495102 *\n",
      "*Baskets :      307 : Basket Size=    1188864 bytes  Compression=   3.87     *\n",
      "*............................................................................*\n",
      "*Br   29 :Electron_dxyErr : Electron_dxyErr[nElectron]/F                     *\n",
      "*Entries : 29308627 : Total  Size=  141145344 bytes  File Size  =   35323040 *\n",
      "*Baskets :      307 : Basket Size=    1188864 bytes  Compression=   4.00     *\n",
      "*............................................................................*\n",
      "*Br   30 :Electron_dz : Electron_dz[nElectron]/F                             *\n",
      "*Entries : 29308627 : Total  Size=  141144100 bytes  File Size  =   36664571 *\n",
      "*Baskets :      307 : Basket Size=    1188864 bytes  Compression=   3.85     *\n",
      "*............................................................................*\n",
      "*Br   31 :Electron_dzErr : Electron_dzErr[nElectron]/F                       *\n",
      "*Entries : 29308627 : Total  Size=  141145033 bytes  File Size  =   35387641 *\n",
      "*Baskets :      307 : Basket Size=    1188864 bytes  Compression=   3.99     *\n",
      "*............................................................................*\n"
     ]
    }
   ],
   "source": [
    "t.Print()"
   ]
  },
  {
   "cell_type": "markdown",
   "metadata": {},
   "source": [
    "### Question: Why do we need a different data format for the Muon_pt branch?"
   ]
  },
  {
   "cell_type": "markdown",
   "metadata": {},
   "source": [
    "#### TTree::Draw\n",
    "\n",
    "Another very handy way to see the data is the `Draw` method.\n",
    "\n",
    "This is an internal method to loop over all the events on a branch (very efficiently!),\n",
    "\n",
    "and fill an histogram from the branch content\n",
    "\n",
    "To visualize the histogram, we first need to create a Canvas.\n"
   ]
  },
  {
   "cell_type": "code",
   "execution_count": 5,
   "metadata": {},
   "outputs": [],
   "source": [
    "c = r.TCanvas('c1','c1',800,600)"
   ]
  },
  {
   "cell_type": "markdown",
   "metadata": {},
   "source": [
    "For example, we can look at the branch called `nMuon`"
   ]
  },
  {
   "cell_type": "code",
   "execution_count": 7,
   "metadata": {
    "scrolled": true
   },
   "outputs": [
    {
     "data": {
      "image/png": "[encoded data removed]",
      "text/plain": [
       "<IPython.core.display.Image object>"
      ]
     },
     "metadata": {},
     "output_type": "display_data"
    }
   ],
   "source": [
    "t.Draw('nMuon')\n",
    "c.Draw()"
   ]
  },
  {
   "cell_type": "markdown",
   "metadata": {},
   "source": [
    "### Question: Can you guess what does this histogram represents?"
   ]
  },
  {
   "cell_type": "markdown",
   "metadata": {},
   "source": [
    "The branch names usually contains good description of what does it contain.\n",
    "\n",
    "Similarly, we can explore another branch called `PV_npvs` as well"
   ]
  },
  {
   "cell_type": "code",
   "execution_count": 8,
   "metadata": {
    "collapsed": true
   },
   "outputs": [
    {
     "data": {
      "image/png": "[encoded data removed]",
      "text/plain": [
       "<IPython.core.display.Image object>"
      ]
     },
     "metadata": {},
     "output_type": "display_data"
    }
   ],
   "source": [
    "t.Draw(\"PV_npvs\")\n",
    "c.Draw()"
   ]
  },
  {
   "cell_type": "markdown",
   "metadata": {},
   "source": [
    "### Question: Can you guess what `PV_npvs` represents then?"
   ]
  },
  {
   "cell_type": "markdown",
   "metadata": {},
   "source": [
    "### Looping a TTree with a histogram\n",
    "\n",
    "`TTree.Draw()` can only offer a simple plotting, for more custom analysis, we can go through the `TTree` event-by-event by building a for-loop.\n",
    "\n",
    "Let's use a simple for-loop to re-create the `nMuon` histogram.\n",
    "\n",
    " - Learn how to create a histogram\n",
    " - Learn how to write a loop structure for a TTree"
   ]
  },
  {
   "cell_type": "markdown",
   "metadata": {},
   "source": [
    "#### Defining a 1D histogram\n",
    "\n",
    "`ROOT` has a very powerful library of histogram class called `TH1` with extensive functionalities.\n",
    "\n",
    "You can construct a very simple 1D histogram like this:\n",
    "\n",
    "`h = r.TH1F(\"name\",\"title\", nBin, x_low, x_hi)` \n",
    "\n",
    " - `TH1F` is a sub-class of `TH1`, using a `float` to store the data of each bin of the histogram\n",
    " - `name` is the name of the histogram object, it is used to identify the histogram object (h, in this case) in a file\n",
    " - `title` is the title to be displayed in plotting\n",
    " - `nBin` is the number of bins \n",
    " - `x_low,x_hi` are the lower and upper range of the 1D histogram respectively.\n",
    " \n",
    " \n",
    "Further documentation about `TH1` can be found here:\n",
    "https://root.cern.ch/doc/master/classTH1.html"
   ]
  },
  {
   "cell_type": "markdown",
   "metadata": {},
   "source": [
    "### Let's define our first histogram"
   ]
  },
  {
   "cell_type": "code",
   "execution_count": 6,
   "metadata": {},
   "outputs": [],
   "source": [
    "h_nMuon = r.TH1F('nMuon','nMuon',10,0,10)\n",
    "h_nMuon.Draw()\n",
    "c.Update()\n",
    "c.Draw()"
   ]
  },
  {
   "cell_type": "markdown",
   "metadata": {},
   "source": [
    "### Filling a histogram\n",
    "\n",
    "Say, if you have an event with 4 muons in it. You will want to put 1 event in the 4-th bin."
   ]
  },
  {
   "cell_type": "code",
   "execution_count": 8,
   "metadata": {},
   "outputs": [
    {
     "data": {
      "image/png": "[encoded data removed]",
      "text/plain": [
       "<IPython.core.display.Image object>"
      ]
     },
     "metadata": {},
     "output_type": "display_data"
    }
   ],
   "source": [
    "h_nMuon.Fill(4)\n",
    "c.Update()\n",
    "c.Draw()"
   ]
  },
  {
   "cell_type": "code",
   "execution_count": 13,
   "metadata": {},
   "outputs": [],
   "source": [
    "## now let's clear the bin content, by setting the 5th bin to 0\n",
    "h_nMuon.SetBinContent(5,0)"
   ]
  },
  {
   "cell_type": "markdown",
   "metadata": {},
   "source": [
    "### Looping a TTree\n",
    "\n",
    "By default, all the branches are loaded as the methods of the TTree object.\n",
    "\n",
    "For example, you can simply access the `nMuon` branch like this:\n",
    "\n",
    "`nMuon = t.nMuon`\n",
    "\n",
    "**It will return the value of the tree is currently located\n",
    "\n",
    "To access different events, we can do:\n",
    "\n",
    "`t.GetEntry(i)`\n",
    "\n",
    "This will set the memeory address to load the i-th entry in the Tree.\n",
    "\n",
    "Combining both, a TTree can be looped over with the simple loop structure like this:\n",
    "\n",
    "```\n",
    "for i in range(0,t.GetEntries()):\n",
    "    t.GetEntry(i)\n",
    "    nMuon = t.nMuon\n",
    "    h_nMuon.Fill(nMuon)\n",
    "```"
   ]
  },
  {
   "cell_type": "code",
   "execution_count": 18,
   "metadata": {},
   "outputs": [
    {
     "ename": "KeyboardInterrupt",
     "evalue": "",
     "output_type": "error",
     "traceback": [
      "\u001b[0;31m\u001b[0m",
      "\u001b[0;31mKeyboardInterrupt\u001b[0mTraceback (most recent call last)",
      "\u001b[0;32m<ipython-input-18-ab8ac3c08ee4>\u001b[0m in \u001b[0;36m<module>\u001b[0;34m()\u001b[0m\n\u001b[1;32m      1\u001b[0m \u001b[0;32mfor\u001b[0m \u001b[0mi\u001b[0m \u001b[0;32min\u001b[0m \u001b[0mrange\u001b[0m\u001b[0;34m(\u001b[0m\u001b[0;36m0\u001b[0m\u001b[0;34m,\u001b[0m\u001b[0mt\u001b[0m\u001b[0;34m.\u001b[0m\u001b[0mGetEntries\u001b[0m\u001b[0;34m(\u001b[0m\u001b[0;34m)\u001b[0m\u001b[0;34m)\u001b[0m\u001b[0;34m:\u001b[0m\u001b[0;34m\u001b[0m\u001b[0m\n\u001b[1;32m      2\u001b[0m     \u001b[0mt\u001b[0m\u001b[0;34m.\u001b[0m\u001b[0mGetEntry\u001b[0m\u001b[0;34m(\u001b[0m\u001b[0mi\u001b[0m\u001b[0;34m)\u001b[0m\u001b[0;34m\u001b[0m\u001b[0m\n\u001b[0;32m----> 3\u001b[0;31m     \u001b[0mnMuon\u001b[0m \u001b[0;34m=\u001b[0m \u001b[0mt\u001b[0m\u001b[0;34m.\u001b[0m\u001b[0mnMuon\u001b[0m\u001b[0;34m\u001b[0m\u001b[0m\n\u001b[0m\u001b[1;32m      4\u001b[0m     \u001b[0mh_nMuon\u001b[0m\u001b[0;34m.\u001b[0m\u001b[0mFill\u001b[0m\u001b[0;34m(\u001b[0m\u001b[0mnMuon\u001b[0m\u001b[0;34m)\u001b[0m\u001b[0;34m\u001b[0m\u001b[0m\n",
      "\u001b[0;31mKeyboardInterrupt\u001b[0m: "
     ]
    }
   ],
   "source": [
    "for i in range(0,t.GetEntries()):\n",
    "    t.GetEntry(i)\n",
    "    nMuon = t.nMuon\n",
    "    h_nMuon.Fill(nMuon)"
   ]
  },
  {
   "cell_type": "markdown",
   "metadata": {},
   "source": [
    "### Note: You will notice this is significantly slower than `TTree::Draw()`.\n",
    "\n",
    "This is because you are loading **all** branches in each events,\n",
    "\n",
    "whereas `TTree::Draw` is only accessing one branch"
   ]
  },
  {
   "cell_type": "code",
   "execution_count": 19,
   "metadata": {},
   "outputs": [
    {
     "data": {
      "image/png": "[encoded data removed]",
      "text/plain": [
       "<IPython.core.display.Image object>"
      ]
     },
     "metadata": {},
     "output_type": "display_data"
    }
   ],
   "source": [
    "h_nMuon.Draw()\n",
    "c.Update()\n",
    "c.Draw()"
   ]
  },
  {
   "cell_type": "markdown",
   "metadata": {},
   "source": [
    "### Plotting the di-muon mass spectrum\n",
    "\n",
    "Now we have all the ingredients to plot the di-muon mass spectrum.\n",
    "\n",
    "First, we will need a histogram."
   ]
  },
  {
   "cell_type": "code",
   "execution_count": 21,
   "metadata": {},
   "outputs": [],
   "source": [
    "h_dimuon_mass = r.TH1F('DiMuon_mass','DiMuon_mass',200,0,200)"
   ]
  },
  {
   "cell_type": "code",
   "execution_count": 28,
   "metadata": {},
   "outputs": [],
   "source": [
    "## write a function that computes the invariant mass given the event\n",
    "def invmass(pt,phi,eta,mass):\n",
    "    \n",
    "    m  = 2*pt[0]*pt[1]*(np.cosh(eta[0]-eta[1])-np.cos(phi[0]-phi[1]))\n",
    "    ### Your code here:\n",
    "    #m = 90\n",
    "    return m"
   ]
  },
  {
   "cell_type": "code",
   "execution_count": 23,
   "metadata": {},
   "outputs": [],
   "source": [
    "## write a function that select \n",
    "def selectMuons(muons):\n",
    "    select = False\n",
    "\n",
    "    ### Think about what event selection will give you a better di-Muon spectrum \n",
    "    ### that shows you a better Z-boson peak at 90 GeV.\n",
    "    if muons['n']==2: select = True\n",
    "    \n",
    "    \n",
    "    ### Your code here:    \n",
    "    return select"
   ]
  },
  {
   "cell_type": "code",
   "execution_count": 35,
   "metadata": {},
   "outputs": [
    {
     "data": {
      "image/png": "[encoded data removed]",
      "text/plain": [
       "<IPython.core.display.Image object>"
      ]
     },
     "metadata": {},
     "output_type": "display_data"
    }
   ],
   "source": [
    "for i in range(0,10000):\n",
    "    t.GetEntry(i)\n",
    "    nMuon   = t.nMuon\n",
    "    pt      = np.array(t.Muon_pt)          # note: this is an array\n",
    "    phi     = np.array(t.Muon_phi)         # note: this is an array\n",
    "    eta     = np.array(t.Muon_eta)         # note: this is an array \n",
    "    mass    = np.array(t.Muon_mass)        # note: this is an array\n",
    "    isTight = np.array(t.Muon_tightId)     # note: this is an array\n",
    "    charge  = np.array(t.Muon_charge)      # note: this is an array\n",
    "    muons   = {\n",
    "        'n':nMuon,\n",
    "        'pt':pt,\n",
    "        'phi':phi,\n",
    "        'eta':eta,\n",
    "        'isTight':isTight,\n",
    "        'charge':charge,\n",
    "    }\n",
    "    if selectMuons(muons):\n",
    "        h_dimuon_mass.Fill(invmass(pt,phi,eta,mass))\n",
    "h_dimuon_mass.Draw()\n",
    "c.Update()\n",
    "c.SetLogy(1)\n",
    "c.Draw()"
   ]
  },
  {
   "cell_type": "markdown",
   "metadata": {},
   "source": [
    "# RESET the histogram if you want to try again!"
   ]
  },
  {
   "cell_type": "code",
   "execution_count": 32,
   "metadata": {},
   "outputs": [],
   "source": [
    "for i in range(0,201): h_dimuon_mass.SetBinContent(i,0)"
   ]
  },
  {
   "cell_type": "markdown",
   "metadata": {},
   "source": [
    "### Fitting a histogram\n",
    "\n",
    "$f(x) = [0] exp\\left(-\\frac{1}{2}*((x-[1])/[2]\\right)^2$\n",
    "\n",
    "https://root.cern.ch/doc/master/classTF1.html"
   ]
  },
  {
   "cell_type": "code",
   "execution_count": 13,
   "metadata": {},
   "outputs": [
    {
     "data": {
      "image/png": "[encoded data removed]",
      "text/plain": [
       "<IPython.core.display.Image object>"
      ]
     },
     "metadata": {},
     "output_type": "display_data"
    }
   ],
   "source": [
    "gaus = r.TF1('f1','gaus',85,95)\n",
    "gaus.SetParNames('A','#mu','Sigma')\n",
    "gaus.SetParameters(1,90,10)\n",
    "gaus.Draw()\n",
    "c.Draw()"
   ]
  },
  {
   "cell_type": "code",
   "execution_count": 14,
   "metadata": {},
   "outputs": [
    {
     "name": "stdout",
     "output_type": "stream",
     "text": [
      " FCN=20.0184 FROM MIGRAD    STATUS=CONVERGED      62 CALLS          63 TOTAL\n",
      "                     EDM=1.02169e-07    STRATEGY= 1      ERROR MATRIX ACCURATE \n",
      "  EXT PARAMETER                                   STEP         FIRST   \n",
      "  NO.   NAME      VALUE            ERROR          SIZE      DERIVATIVE \n",
      "   1  A            1.22228e+02   6.64069e+00   1.03615e-02  -5.67886e-05\n",
      "   2  #mu          9.06519e+01   1.00641e-01   2.24827e-04  -3.48151e-03\n",
      "   3  Sigma        2.37510e+00   1.15404e-01   2.63480e-05  -1.81895e-02\n"
     ]
    }
   ],
   "source": [
    "fitResult = h_dimuon_mass.Fit(gaus,'RS')"
   ]
  },
  {
   "cell_type": "code",
   "execution_count": 19,
   "metadata": {},
   "outputs": [
    {
     "data": {
      "image/png": "[encoded data removed]",
      "text/plain": [
       "<IPython.core.display.Image object>"
      ]
     },
     "metadata": {},
     "output_type": "display_data"
    }
   ],
   "source": [
    "h_dimuon_mass.Draw()\n",
    "c.Draw()"
   ]
  },
  {
   "cell_type": "markdown",
   "metadata": {},
   "source": [
    "### Quality of the fit"
   ]
  },
  {
   "cell_type": "code",
   "execution_count": 24,
   "metadata": {},
   "outputs": [
    {
     "name": "stdout",
     "output_type": "stream",
     "text": [
      "Checking fit quality:\n",
      "chi2 = 20.018\n",
      "NDF = 7.000\n",
      "chi2/NDF = 2.860\n"
     ]
    }
   ],
   "source": [
    "chi2 = gaus.GetChisquare()\n",
    "NDF  = gaus.GetNDF()\n",
    "print('Checking fit quality:')\n",
    "print(\"chi2 = %.3f\\nNDF = %.3f\\nchi2/NDF = %.3f\"% (chi2,NDF, chi2/NDF))"
   ]
  }
 ],
 "metadata": {
  "kernelspec": {
   "display_name": "Python 2",
   "language": "python",
   "name": "python2"
  },
  "language_info": {
   "codemirror_mode": {
    "name": "ipython",
    "version": 2
   },
   "file_extension": ".py",
   "mimetype": "text/x-python",
   "name": "python",
   "nbconvert_exporter": "python",
   "pygments_lexer": "ipython2",
   "version": "2.7.15"
  }
 },
 "nbformat": 4,
 "nbformat_minor": 2
}
