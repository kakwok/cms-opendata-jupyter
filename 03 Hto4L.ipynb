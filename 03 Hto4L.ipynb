{
 "cells": [
  {
   "cell_type": "code",
   "execution_count": 1,
   "metadata": {},
   "outputs": [
    {
     "name": "stdout",
     "output_type": "stream",
     "text": [
      "Welcome to JupyROOT 6.22/00\n"
     ]
    }
   ],
   "source": [
    "import ROOT as r\n",
    "import numpy as np"
   ]
  },
  {
   "cell_type": "code",
   "execution_count": 2,
   "metadata": {},
   "outputs": [],
   "source": [
    "mcfiles = [\n",
    "    {'name':'ZZto4mu'   ,'color':r.kRed,'f':'./samples/ZZTo4mu_skim.root','Nevents':1499064,'xsec':7.6865000E-02 },    \n",
    "    {'name':'ZZto4e'    ,'color':r.kBlue,'f':'./samples/ZZTo4e_skim.root','Nevents':1499093,'xsec':7.7241300E-02 },\n",
    "    {'name':'ZZto2e2mu' ,'color':r.kGreen,'f':'./samples/ZZTo2e2mu_skim.root','Nevents':1497445,'xsec': 1.7656500E-01 },\n",
    "    {'name':'DYJetsToLL','color':r.kOrange,'f':'./samples/DYJetsToLL_skim.root','Nevents':30458871,'xsec': 2.7903452E+03 },\n",
    "    {'name':'SMHiggs'   ,'color':r.kMagenta,'f':'./samples/SMHiggsToZZTo4L_skim.root','Nevents':299973,'xsec': 1.2932700E+01 },    \n",
    "]\n",
    "datafiles=[\n",
    "#    {'name':'DoubleMuBC'      ,'color':r.kBlack,'f':'./samples/Run2012BC_DoubleMuParked_skim.root','lumi':11470},\n",
    "    {'name':'DoubleElectronB'  ,'color':r.kBlack,'f':'./samples/Run2012B_DoubleElectron_skim.root','lumi':4410},    \n",
    "#    {'name':'DoubleElectronC' ,'color':r.kBlack,'f':'./samples/Run2012C_DoubleElectron_skim.root','lumi':7060},        \n",
    "]"
   ]
  },
  {
   "cell_type": "code",
   "execution_count": 3,
   "metadata": {},
   "outputs": [],
   "source": [
    "h_2e2mu_Zmass_ee = r.TH1F('h_2e2mu_Zmass_ee','h_2e2mu_Zmass_ee',130,70,200)\n",
    "\n",
    "hlist = [\n",
    "    {'h':h_2e2mu_Zmass_ee, 'fill_var':\"Zmass_ee\"},\n",
    "]"
   ]
  },
  {
   "cell_type": "code",
   "execution_count": 30,
   "metadata": {},
   "outputs": [],
   "source": [
    "c = r.TCanvas('c1','c1',800,600)"
   ]
  },
  {
   "cell_type": "code",
   "execution_count": 5,
   "metadata": {},
   "outputs": [],
   "source": [
    "for sample in mcfiles+datafiles:\n",
    "    histograms = []\n",
    "    for h_dict in hlist:\n",
    "        htmp = h_dict['h'].Clone(h_dict['h'].GetName()+\"_\"+sample['name'])\n",
    "        histograms.append({'h':htmp,'fill_var':h_dict['fill_var']})\n",
    "    sample['hists']= histograms"
   ]
  },
  {
   "cell_type": "code",
   "execution_count": 6,
   "metadata": {},
   "outputs": [
    {
     "data": {
      "text/plain": [
       "{'color': 1L,\n",
       " 'f': './samples/Run2012B_DoubleElectron_skim.root',\n",
       " 'hists': [{'fill_var': 'Zmass_ee',\n",
       "   'h': <cppyy.gbl.TH1F object at 0x7f81863ea4b0>}],\n",
       " 'lumi': 4410,\n",
       " 'name': 'DoubleElectronB'}"
      ]
     },
     "execution_count": 6,
     "metadata": {},
     "output_type": "execute_result"
    }
   ],
   "source": [
    "datafiles[0]"
   ]
  },
  {
   "cell_type": "code",
   "execution_count": 7,
   "metadata": {},
   "outputs": [
    {
     "data": {
      "text/plain": [
       "'h_2e2mu_Zmass_ee_ZZto4mu'"
      ]
     },
     "execution_count": 7,
     "metadata": {},
     "output_type": "execute_result"
    }
   ],
   "source": [
    "mcfiles[0]['hists'][0]['h'].GetName()"
   ]
  },
  {
   "cell_type": "code",
   "execution_count": 8,
   "metadata": {},
   "outputs": [],
   "source": [
    "def select_goodMuons(Muons):\n",
    "    ## fill your code here\n",
    "    #  \n",
    "    #  Good Muons should contain the list of good muons pt/eta/phi/mass\n",
    "    #     Good_Muons=[\n",
    "    #         {'pt':,'eta':,'phi':,'mass':}\n",
    "    #         {'pt':,'eta':,'phi':,'mass':}        \n",
    "    #     ]\n",
    "    GoodMuons =Muons\n",
    "    return GoodMuons\n",
    "def select_goodElectrons(electrons):\n",
    "    ## fill your code here\n",
    "    Good_electrons = {\n",
    "        'pt':[],\n",
    "        'eta':[],\n",
    "        'phi':[],\n",
    "        'mass':[],\n",
    "    }\n",
    "    for j in range(0,electrons['n']):\n",
    "        if electrons['pt'][j]>7 and abs(electrons['eta'][j])<2.5:\n",
    "            Good_electrons['pt'].append(electrons['pt'][j])\n",
    "            Good_electrons['eta'].append(electrons['eta'][j])\n",
    "            Good_electrons['phi'].append(electrons['phi'][j])\n",
    "            Good_electrons['mass'].append(electrons['mass'][j])\n",
    "            \n",
    "    return Good_electrons"
   ]
  },
  {
   "cell_type": "code",
   "execution_count": 9,
   "metadata": {},
   "outputs": [],
   "source": [
    "def select_2e2mu(electrons,muons):\n",
    "    ## fill your code here\n",
    "    return True"
   ]
  },
  {
   "cell_type": "code",
   "execution_count": 9,
   "metadata": {},
   "outputs": [],
   "source": [
    "def invmass(pt,phi,eta,mass):\n",
    "    m = 0\n",
    "    px = pt[0]*np.cos(phi[0])+pt[1]*np.cos(phi[1])\n",
    "    py = pt[0]*np.sin(phi[0])+pt[1]*np.sin(phi[1])\n",
    "    theta0 = 2.*np.arctan(np.exp(-eta[0]))\n",
    "    theta1 = 2.*np.arctan(np.exp(-eta[1]))\n",
    "    pz = pt[0]/np.tan(theta0) + pt[1]/np.tan(theta1)\n",
    "    e0 = np.sqrt(pt[0]**2 + (pt[0]/np.tan(theta0))**2 + mass[0]**2)\n",
    "    e1 = np.sqrt(pt[1]**2 + (pt[1]/np.tan(theta1))**2 + mass[1]**2)\n",
    "    \n",
    "    m = np.sqrt((e0+e1)**2 - px**2 - py**2 - pz**2)\n",
    "    \n",
    "    ## OR in the massless muon limit, the formula can be more compact:\n",
    "    #m  = np.sqrt(2*pt[0]*pt[1]*(np.cosh(eta[0]-eta[1])-np.cos(phi[0]-phi[1])))\n",
    "    return m"
   ]
  },
  {
   "cell_type": "code",
   "execution_count": 10,
   "metadata": {},
   "outputs": [],
   "source": [
    "def FillHistogram(t,histograms,weight,N=-1):\n",
    "    if N==-1:\n",
    "        #Process all the events by default\n",
    "        nEntries = t.GetEntries()\n",
    "    else:\n",
    "        nEntries = N\n",
    "    print('Processing %s events in the tree'%nEntries)\n",
    "    for i in range(0,nEntries):\n",
    "        t.GetEntry(i)\n",
    "        nMuon   = t.nMuon\n",
    "        mu_pt      = np.array(t.Muon_pt)          # note: this is an array\n",
    "        mu_phi     = np.array(t.Muon_phi)         # note: this is an array\n",
    "        mu_eta     = np.array(t.Muon_eta)         # note: this is an array \n",
    "        mu_mass    = np.array(t.Muon_mass)        # note: this is an array\n",
    "        mu_isTight = np.array(t.Muon_tightId)     # note: this is an array\n",
    "        mu_charge  = np.array(t.Muon_charge)      # note: this is an array\n",
    "        mu_iso     = np.array(t.Muon_pfRelIso03_all)\n",
    "        mu_dxy     = np.array(t.Muon_dxy)\n",
    "        mu_dxyErr  = np.array(t.Muon_dxyErr)        \n",
    "        mu_dz      = np.array(t.Muon_dz)        \n",
    "        mu_dzErr   = np.array(t.Muon_dzErr)                \n",
    "        all_muons   = {\n",
    "            'n'      :nMuon,\n",
    "            'pt'     :mu_pt,\n",
    "            'phi'    :mu_phi,\n",
    "            'eta'    :mu_eta,\n",
    "            'mass'   :mu_mass,\n",
    "            'isTight':mu_isTight,\n",
    "            'charge' :mu_charge,\n",
    "            'iso'    :mu_iso,\n",
    "            'dxy'    :mu_dxy,\n",
    "            'dxyErr' :mu_dxyErr,\n",
    "            'dz'     :mu_dz,\n",
    "            'dzErr'  :mu_dzErr,\n",
    "        }\n",
    "        nElectron   = t.nElectron\n",
    "        el_pt       = np.array(t.Electron_pt)         \n",
    "        el_phi     = np.array(t.Electron_phi)         \n",
    "        el_eta     = np.array(t.Electron_eta)         \n",
    "        el_mass    = np.array(t.Electron_mass)         \n",
    "        el_charge  = np.array(t.Electron_charge)      \n",
    "        el_iso     = np.array(t.Electron_pfRelIso03_all)\n",
    "        el_dxy     = np.array(t.Electron_dxy)\n",
    "        el_dxyErr  = np.array(t.Electron_dxyErr)        \n",
    "        el_dz      = np.array(t.Electron_dz)        \n",
    "        el_dzErr   = np.array(t.Electron_dzErr)   \n",
    "        all_electrons  = {\n",
    "            'n'      :nElectron,\n",
    "            'pt'     :el_pt,\n",
    "            'phi'    :el_phi,\n",
    "            'eta'    :el_eta,\n",
    "            'mass'   :el_mass,\n",
    "            'charge' :el_charge,\n",
    "            'iso'    :el_iso,\n",
    "            'dxy'    :el_dxy,\n",
    "            'dxyErr' :el_dxyErr,\n",
    "            'dz'     :el_dz,\n",
    "            'dzErr'  :el_dzErr,\n",
    "        }\n",
    "        ## collect all the quantities you need to fill here\n",
    "        quantity={\n",
    "            'Zmass_ee':0\n",
    "        }\n",
    "        goodElectrons  = select_goodElectrons(all_electrons)\n",
    "        goodMuons      = select_goodMuons(all_muons)   \n",
    "        \n",
    "        nGoodMuons = len(goodMuons['pt'])\n",
    "        nGoodElectrons = len(goodElectrons['pt'])\n",
    "        \n",
    "        if nGoodElectrons==2:\n",
    "            quantity['Zmass_ee'] = invmass(goodElectrons['pt'],\n",
    "                                           goodElectrons['eta'],\n",
    "                                           goodElectrons['phi'],\n",
    "                                           goodElectrons['mass'])\n",
    "\n",
    "        # Fill all your histograms at the end\n",
    "        for histogram in histograms:\n",
    "            histogram['h'].Fill(quantity[histogram['fill_var']],weight)\n",
    "    return "
   ]
  },
  {
   "cell_type": "code",
   "execution_count": 34,
   "metadata": {},
   "outputs": [],
   "source": [
    "for sample in mcfiles+ datafiles:\n",
    "    for h_dict in sample['hists']:\n",
    "        h_dict['h'].Reset()"
   ]
  },
  {
   "cell_type": "code",
   "execution_count": 36,
   "metadata": {
    "scrolled": true
   },
   "outputs": [
    {
     "name": "stdout",
     "output_type": "stream",
     "text": [
      "('Processing sample = ', 'ZZto4mu')\n",
      "Processing 98502 events in the tree\n",
      "('Processing sample = ', 'ZZto4e')\n",
      "Processing 59030 events in the tree\n",
      "('Processing sample = ', 'ZZto2e2mu')\n",
      "Processing 66888 events in the tree\n",
      "('Processing sample = ', 'DYJetsToLL')\n",
      "Processing 23705 events in the tree\n",
      "('Processing sample = ', 'SMHiggs')\n",
      "Processing 20367 events in the tree\n",
      "('Processing sample = ', 'DoubleElectronB')\n",
      "Processing 54023 events in the tree\n"
     ]
    }
   ],
   "source": [
    "for sample in mcfiles+datafiles:\n",
    "    print('Processing sample = ',sample['name'])\n",
    "    tf_sample = r.TFile(sample['f'])\n",
    "    sample_tree = tf_sample.Get(\"Events\")\n",
    "    \n",
    "    ## Calculate weights for MC here\n",
    "    FillHistogram(sample_tree,sample['hists'],weight=1.0)"
   ]
  },
  {
   "cell_type": "code",
   "execution_count": 38,
   "metadata": {},
   "outputs": [
    {
     "data": {
      "image/png": "[encoded data removed]",
      "text/plain": [
       "<IPython.core.display.Image object>"
      ]
     },
     "metadata": {},
     "output_type": "display_data"
    }
   ],
   "source": [
    "datafiles[0]['hists'][0]['h'].Draw()\n",
    "c.Draw()"
   ]
  },
  {
   "cell_type": "code",
   "execution_count": 15,
   "metadata": {},
   "outputs": [
    {
     "data": {
      "text/plain": [
       "[{'f': './samples/Run2012B_DoubleElectron_skim.root',\n",
       "  'hists': [{'fill_var': 'Zmass_ee',\n",
       "    'h': <cppyy.gbl.TH1F object at 0x7fe4d37d1730>}],\n",
       "  'lumi': 4410,\n",
       "  'name': 'DoubleElectronB'}]"
      ]
     },
     "execution_count": 15,
     "metadata": {},
     "output_type": "execute_result"
    }
   ],
   "source": [
    "datafiles"
   ]
  },
  {
   "cell_type": "code",
   "execution_count": 36,
   "metadata": {},
   "outputs": [
    {
     "data": {
      "text/plain": [
       "[{'Nevents': 1499064,\n",
       "  'color': 632L,\n",
       "  'f': './samples/ZZTo4mu_skim.root',\n",
       "  'hists': [{'fill_var': 'Zmass_ee',\n",
       "    'h': <cppyy.gbl.TH1F object at 0x7fe4db749f70>}],\n",
       "  'name': 'ZZto4mu',\n",
       "  'xsec': 0.076865},\n",
       " {'Nevents': 1499093,\n",
       "  'color': 600L,\n",
       "  'f': './samples/ZZTo4e_skim.root',\n",
       "  'hists': [{'fill_var': 'Zmass_ee',\n",
       "    'h': <cppyy.gbl.TH1F object at 0x7fe4db74a660>}],\n",
       "  'name': 'ZZto4e',\n",
       "  'xsec': 0.0772413},\n",
       " {'Nevents': 1497445,\n",
       "  'color': 416L,\n",
       "  'f': './samples/ZZTo2e2mu_skim.root',\n",
       "  'hists': [{'fill_var': 'Zmass_ee',\n",
       "    'h': <cppyy.gbl.TH1F object at 0x7fe4db74af60>}],\n",
       "  'name': 'ZZto2e2mu',\n",
       "  'xsec': 0.176565},\n",
       " {'Nevents': 30458871,\n",
       "  'color': 800L,\n",
       "  'f': './samples/DYJetsToLL_skim.root',\n",
       "  'hists': [{'fill_var': 'Zmass_ee',\n",
       "    'h': <cppyy.gbl.TH1F object at 0x7fe4db74b860>}],\n",
       "  'name': 'DYJetsToLL',\n",
       "  'xsec': 2790.3452},\n",
       " {'Nevents': 299973,\n",
       "  'color': 616L,\n",
       "  'f': './samples/SMHiggsToZZTo4L_skim.root',\n",
       "  'hists': [{'fill_var': 'Zmass_ee',\n",
       "    'h': <cppyy.gbl.TH1F object at 0x7fe4db74c160>}],\n",
       "  'name': 'SMHiggs',\n",
       "  'xsec': 12.9327}]"
      ]
     },
     "execution_count": 36,
     "metadata": {},
     "output_type": "execute_result"
    }
   ],
   "source": [
    "mcfiles"
   ]
  },
  {
   "cell_type": "code",
   "execution_count": 39,
   "metadata": {},
   "outputs": [
    {
     "name": "stdout",
     "output_type": "stream",
     "text": [
      "h_2e2mu_Zmass_ee_ZZto4mu\n",
      "h_2e2mu_Zmass_ee_ZZto4e\n",
      "h_2e2mu_Zmass_ee_ZZto2e2mu\n",
      "h_2e2mu_Zmass_ee_DYJetsToLL\n",
      "h_2e2mu_Zmass_ee_SMHiggs\n"
     ]
    },
    {
     "data": {
      "image/png": "[encoded data removed]",
      "text/plain": [
       "<IPython.core.display.Image object>"
      ]
     },
     "metadata": {},
     "output_type": "display_data"
    }
   ],
   "source": [
    "leg = r.TLegend(0.7,0.7,0.9,0.9)\n",
    "r.gStyle.SetOptStat(0)\n",
    "for i,h in enumerate(hlist):\n",
    "    h['h'].SetStats(0)\n",
    "    hStack = r.THStack(h['h'].GetName()+\"_st\",\"\")\n",
    "    for sample in mcfiles:        \n",
    "        h_sample= sample['hists'][i]['h']\n",
    "        print(h_sample.GetName())\n",
    "        leg.AddEntry(h_sample,sample['name'])\n",
    "        h_sample.SetLineColor(sample['color'])\n",
    "#        h_sample.Draw(\"same\")\n",
    "        hStack.Add(h_sample)\n",
    "#    leg.AddEntry(h['h'],\"All mc\")\n",
    "    hStack.Draw('same')\n",
    "leg.Draw(\"same\")\n",
    "c.Update()\n",
    "c.Draw() "
   ]
  },
  {
   "cell_type": "code",
   "execution_count": 29,
   "metadata": {},
   "outputs": [],
   "source": [
    "del c"
   ]
  },
  {
   "cell_type": "code",
   "execution_count": null,
   "metadata": {},
   "outputs": [],
   "source": []
  }
 ],
 "metadata": {
  "kernelspec": {
   "display_name": "Python 2",
   "language": "python",
   "name": "python2"
  },
  "language_info": {
   "codemirror_mode": {
    "name": "ipython",
    "version": 2
   },
   "file_extension": ".py",
   "mimetype": "text/x-python",
   "name": "python",
   "nbconvert_exporter": "python",
   "pygments_lexer": "ipython2",
   "version": "2.7.15"
  }
 },
 "nbformat": 4,
 "nbformat_minor": 2
}
