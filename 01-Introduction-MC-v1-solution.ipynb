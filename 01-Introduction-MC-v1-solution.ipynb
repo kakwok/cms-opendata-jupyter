{
 "cells": [
  {
   "cell_type": "code",
   "execution_count": 1,
   "metadata": {},
   "outputs": [
    {
     "name": "stdout",
     "output_type": "stream",
     "text": [
      "Welcome to JupyROOT 6.22/00\n"
     ]
    }
   ],
   "source": [
    "#Import the packages\n",
    "import ROOT as r\n",
    "import numpy as np\n",
    "import math"
   ]
  },
  {
   "cell_type": "markdown",
   "metadata": {},
   "source": [
    "# Part 0. The datasets\n",
    " \n",
    " 1. **Z to $\\mu\\mu$ simultion**\n",
    "\n",
    "We will begin by looking at simulation data corresponding to a Z boson decaying into two muons, which we will be comparing with real CMS data later on after getting familiar with the software.\n",
    "\n",
    "These simulated datasets correspond to the collision data collected by the CMS experiment in 2012.\n",
    "\n",
    "First, let's understand what we are looking at.\n",
    "\n",
    "The dataset name is: \n",
    "\n",
    "`/DYToMuMu_M-20_CT10_8TeV-powheg-pythia6/Summer12_DR53X-PU_S10_START53_V19-v1/AODSIM`\n",
    "\n",
    "The dataset name follows a specific convention to provide a self-explanatory description of the dataset.\n",
    "\n",
    "It follows a pattern like this:\n",
    "\n",
    "`/Primary dataset/Condition/Format/`\n",
    "\n",
    " - The `Primary dataset` tells you about the process for a simulation dataset, and the data taking period and trigger stream that the data was collected if it is data.\n",
    "\n",
    " - The `Condition` part tells you what reconstruction condition has been applied to the dataset.\n",
    "\n",
    " - Lastly, the `Format` part tells you the dataformat. We will work with the simplified version of `MINIAOD` format, called `NanoAOD`, which I have prepared for you in advance.**\n",
    "\n",
    "The dataset is downloaded from here. The files `dy_mc.root`/`dy_mc_small.root` is a tiny fraction of the whole dataset, as we do not need the whole 14TB of events.  \n",
    "http://opendata.cern.ch/record/7741\n",
    "\n",
    " 2. **Data - Double Muon data**\n",
    "\n",
    "We will be using proton-proton collision data at $\\sqrt{s}=8 TeV$ taken during 2012 by the CMS.\n",
    "\n",
    "Of course, we will not be using all of them, the dataset name \n",
    "\n",
    "`/DoubleMuParked/Run2012B-22Jan2013-v1/AOD`\n",
    "\n",
    "tells you with subset of data we will be using.\n",
    "\n",
    "Here `DoubleMuParked` means the data collected was triggered by a stream of High Level Trigger(HLT) trigger paths that targets muon, such as\n",
    "```\n",
    "HLT_DoubleMu5_IsoMu5\n",
    "```\n",
    "which means it requires two muons with at least 5 GeV and one of them is isolated from other particles.\n",
    "\n",
    "Like the simulation data, a skimmed version have been made for you: `Run2012B_DoubleMuParked_nanoaod.root`\n",
    "\n",
    "More details can be found in this record:\n",
    "http://opendata.cern.ch/record/6004\n",
    "\n",
    "\n",
    "<br>\n",
    "<br>\n",
    "<br>\n",
    "\n",
    "\n",
    "** In case you are curious, the conversion is done also with cms open software here:\n",
    "\n",
    "https://github.com/cms-opendata-analyses/AOD2NanoAODOutreachTool"
   ]
  },
  {
   "cell_type": "markdown",
   "metadata": {},
   "source": [
    "# Part 1 Exploring ROOT files with pyROOT\n",
    "\n",
    "In this section, we will go over some of the basic operations to explore a root file, working with the small simulation file first.\n"
   ]
  },
  {
   "cell_type": "code",
   "execution_count": 11,
   "metadata": {},
   "outputs": [
    {
     "name": "stdout",
     "output_type": "stream",
     "text": [
      "TFile**\t\tRun2012B_DoubleMuParked_nanoaod.root\t\n",
      " TFile*\t\tRun2012B_DoubleMuParked_nanoaod.root\t\n",
      "  KEY: TDirectoryFile\taod2nanoaod;1\taod2nanoaod\n",
      "TDirectoryFile*\t\taod2nanoaod\taod2nanoaod\n",
      " KEY: TTree\tEvents;1\tEvents\n"
     ]
    }
   ],
   "source": [
    "#Opening a ROOT file\n",
    "f = r.TFile(\"dy_mc_small.root\")\n",
    "# list the content of the file\n",
    "f.ls()\n",
    "dir = f.GetDirectory(\"aod2nanoaod\")\n",
    "dir.ls()"
   ]
  },
  {
   "cell_type": "markdown",
   "metadata": {},
   "source": [
    "### TTree\n",
    "TTree is the main object that holds the data. \n",
    "\n",
    "In general, all the objects in a TFile can be obtained with the `Get` Method"
   ]
  },
  {
   "cell_type": "code",
   "execution_count": 12,
   "metadata": {},
   "outputs": [],
   "source": [
    "t = f.Get(\"aod2nanoaod/Events\")"
   ]
  },
  {
   "cell_type": "code",
   "execution_count": 13,
   "metadata": {},
   "outputs": [
    {
     "name": "stdout",
     "output_type": "stream",
     "text": [
      "16922\n"
     ]
    }
   ],
   "source": [
    "## See how many events are there in this tree\n",
    "nEntries = t.GetEntries()\n",
    "print(nEntries)"
   ]
  },
  {
   "cell_type": "markdown",
   "metadata": {},
   "source": [
    "### TTree.Show()\n",
    " There a several methods to see what's inside a tree\n",
    "\n",
    "`Show(n)` prints out the n-th event in the tree"
   ]
  },
  {
   "cell_type": "code",
   "execution_count": 5,
   "metadata": {},
   "outputs": [
    {
     "name": "stdout",
     "output_type": "stream",
     "text": [
      "======> EVENT:0\n",
      " run             = 1\n",
      " luminosityBlock = 155745\n",
      " event           = 15574401\n",
      " HLT_IsoMu24_eta2p1 = 0\n",
      " HLT_IsoMu24     = 0\n",
      " HLT_IsoMu17_eta2p1_LooseIsoPFTau20 = 0\n",
      " PV_npvs         = 10\n",
      " PV_x            = 0.242836\n",
      " PV_y            = 0.394151\n",
      " PV_z            = 0.156161\n",
      " nMuon           = 0\n",
      " nElectron       = 0\n",
      " nTau            = 1\n",
      " Tau_pt          = 15.8333\n",
      " Tau_eta         = 2.73775\n",
      " Tau_phi         = -0.505689\n",
      " Tau_mass        = 4.45695\n",
      " Tau_charge      = 0\n",
      " Tau_decayMode   = -1\n",
      " Tau_relIso_all  = nan\n",
      " Tau_jetIdx      = -1\n",
      " Tau_genPartIdx  = 0\n",
      " Tau_idDecayMode = 0\n",
      " Tau_idIsoRaw    = 0\n",
      " Tau_idIsoVLoose = 0\n",
      " Tau_idIsoLoose  = 0\n",
      " Tau_idIsoMedium = 0\n",
      " Tau_idIsoTight  = 0\n",
      " Tau_idAntiEleLoose = 0\n",
      " Tau_idAntiEleMedium = 0\n",
      " Tau_idAntiEleTight = 0\n",
      " Tau_idAntiMuLoose = 1\n",
      " Tau_idAntiMuMedium = 1\n",
      " Tau_idAntiMuTight = 1\n",
      " MET_pt          = 25.3113\n",
      " MET_phi         = -1.33268\n",
      " MET_sumet       = 544.79\n",
      " MET_significance = 4.06671\n",
      " MET_CovXX       = 157.977\n",
      " MET_CovXY       = 0.1051\n",
      " MET_CovYY       = 157.563\n",
      " nJet            = 0\n",
      " nGenPart        = 1\n",
      " GenPart_pt      = 0.00718976\n",
      " GenPart_eta     = 2.63121\n",
      " GenPart_phi     = -1.49576\n",
      " GenPart_mass    = 0.00051\n",
      " GenPart_pdgId   = 11\n",
      " GenPart_status  = 1\n"
     ]
    }
   ],
   "source": [
    "t.Show(0)"
   ]
  },
  {
   "cell_type": "markdown",
   "metadata": {},
   "source": [
    "### TTree.Print()\n",
    "\n",
    "`Print()` gives you more information about the branches, esp dataformat. \n",
    "\n",
    "Here, `run/I` tells you that the branch `run` is of type integer\n",
    "\n",
    "whereas, `PV_x/F` means PV_x is a float\n",
    "\n",
    "Finally, `Muon_pt[nMuon]/F ` is a array of floats"
   ]
  },
  {
   "cell_type": "code",
   "execution_count": 6,
   "metadata": {},
   "outputs": [
    {
     "name": "stdout",
     "output_type": "stream",
     "text": [
      "******************************************************************************\n",
      "*Tree    :Events    : Events                                                 *\n",
      "*Entries :    12793 : Total =        12552048 bytes  File  Size =    5306422 *\n",
      "*        :          : Tree compression factor =   2.36                       *\n",
      "******************************************************************************\n",
      "*Br    0 :run       : run/I                                                  *\n",
      "*Entries :    12793 : Total  Size=      51797 bytes  File Size  =        464 *\n",
      "*Baskets :        2 : Basket Size=      32000 bytes  Compression= 110.59     *\n",
      "*............................................................................*\n",
      "*Br    1 :luminosityBlock : luminosityBlock/i                                *\n",
      "*Entries :    12793 : Total  Size=      51869 bytes  File Size  =        984 *\n",
      "*Baskets :        2 : Basket Size=      32000 bytes  Compression=  52.17     *\n",
      "*............................................................................*\n",
      "*Br    2 :event     : event/l                                                *\n",
      "*Entries :    12793 : Total  Size=     103137 bytes  File Size  =      23047 *\n",
      "*Baskets :        4 : Basket Size=      32000 bytes  Compression=   4.45     *\n",
      "*............................................................................*\n",
      "*Br    3 :HLT_IsoMu24_eta2p1 : HLT_IsoMu24_eta2p1/O                          *\n",
      "*Entries :    12793 : Total  Size=      13415 bytes  File Size  =       2926 *\n",
      "*Baskets :        1 : Basket Size=      32000 bytes  Compression=   4.40     *\n",
      "*............................................................................*\n",
      "*Br    4 :HLT_IsoMu24 : HLT_IsoMu24/O                                        *\n",
      "*Entries :    12793 : Total  Size=      13380 bytes  File Size  =       2937 *\n",
      "*Baskets :        1 : Basket Size=      32000 bytes  Compression=   4.38     *\n",
      "*............................................................................*\n",
      "*Br    5 :HLT_IsoMu17_eta2p1_LooseIsoPFTau20 :                               *\n",
      "*         | HLT_IsoMu17_eta2p1_LooseIsoPFTau20/O                             *\n",
      "*Entries :    12793 : Total  Size=      13495 bytes  File Size  =       2822 *\n",
      "*Baskets :        1 : Basket Size=      32000 bytes  Compression=   4.57     *\n",
      "*............................................................................*\n",
      "*Br    6 :PV_npvs   : PV_npvs/I                                              *\n",
      "*Entries :    12793 : Total  Size=      51821 bytes  File Size  =      14055 *\n",
      "*Baskets :        2 : Basket Size=      32000 bytes  Compression=   3.65     *\n",
      "*............................................................................*\n",
      "*Br    7 :PV_x      : PV_x/F                                                 *\n",
      "*Entries :    12793 : Total  Size=      51803 bytes  File Size  =      40268 *\n",
      "*Baskets :        2 : Basket Size=      32000 bytes  Compression=   1.27     *\n",
      "*............................................................................*\n",
      "*Br    8 :PV_y      : PV_y/F                                                 *\n",
      "*Entries :    12793 : Total  Size=      51803 bytes  File Size  =      38811 *\n",
      "*Baskets :        2 : Basket Size=      32000 bytes  Compression=   1.32     *\n",
      "*............................................................................*\n",
      "*Br    9 :PV_z      : PV_z/F                                                 *\n",
      "*Entries :    12793 : Total  Size=      51803 bytes  File Size  =      47819 *\n",
      "*Baskets :        2 : Basket Size=      32000 bytes  Compression=   1.07     *\n",
      "*............................................................................*\n",
      "*Br   10 :nMuon     : nMuon/i                                                *\n",
      "*Entries :    12793 : Total  Size=      51809 bytes  File Size  =       7812 *\n",
      "*Baskets :        2 : Basket Size=      32000 bytes  Compression=   6.57     *\n",
      "*............................................................................*\n",
      "*Br   11 :Muon_pt   : Muon_pt[nMuon]/F                                       *\n",
      "*Entries :    12793 : Total  Size=     122816 bytes  File Size  =      85904 *\n",
      "*Baskets :        6 : Basket Size=      32000 bytes  Compression=   1.42     *\n",
      "*............................................................................*\n",
      "*Br   12 :Muon_eta  : Muon_eta[nMuon]/F                                      *\n",
      "*Entries :    12793 : Total  Size=     122826 bytes  File Size  =      87834 *\n",
      "*Baskets :        6 : Basket Size=      32000 bytes  Compression=   1.39     *\n",
      "*............................................................................*\n",
      "*Br   13 :Muon_phi  : Muon_phi[nMuon]/F                                      *\n",
      "*Entries :    12793 : Total  Size=     122826 bytes  File Size  =      87985 *\n",
      "*Baskets :        6 : Basket Size=      32000 bytes  Compression=   1.39     *\n",
      "*............................................................................*\n",
      "*Br   14 :Muon_mass : Muon_mass[nMuon]/F                                     *\n",
      "*Entries :    12793 : Total  Size=     122836 bytes  File Size  =      18606 *\n",
      "*Baskets :        6 : Basket Size=      32000 bytes  Compression=   6.57     *\n",
      "*............................................................................*\n",
      "*Br   15 :Muon_charge : Muon_charge[nMuon]/I                                 *\n",
      "*Entries :    12793 : Total  Size=     122849 bytes  File Size  =      28486 *\n",
      "*Baskets :        6 : Basket Size=      32000 bytes  Compression=   4.29     *\n",
      "*............................................................................*\n",
      "*Br   16 :Muon_pfRelIso03_all : Muon_pfRelIso03_all[nMuon]/F                 *\n",
      "*Entries :    12793 : Total  Size=     122936 bytes  File Size  =      71742 *\n",
      "*Baskets :        6 : Basket Size=      32000 bytes  Compression=   1.70     *\n",
      "*............................................................................*\n",
      "*Br   17 :Muon_pfRelIso04_all : Muon_pfRelIso04_all[nMuon]/F                 *\n",
      "*Entries :    12793 : Total  Size=     122936 bytes  File Size  =      78995 *\n",
      "*Baskets :        6 : Basket Size=      32000 bytes  Compression=   1.55     *\n",
      "*............................................................................*\n",
      "*Br   18 :Muon_tightId : Muon_tightId[nMuon]/O                               *\n",
      "*Entries :    12793 : Total  Size=      69768 bytes  File Size  =      23720 *\n",
      "*Baskets :        4 : Basket Size=      32000 bytes  Compression=   2.92     *\n",
      "*............................................................................*\n",
      "*Br   19 :Muon_softId : Muon_softId[nMuon]/O                                 *\n",
      "*Entries :    12793 : Total  Size=      69760 bytes  File Size  =      22925 *\n",
      "*Baskets :        4 : Basket Size=      32000 bytes  Compression=   3.02     *\n",
      "*............................................................................*\n",
      "*Br   20 :Muon_dxy  : Muon_dxy[nMuon]/F                                      *\n",
      "*Entries :    12793 : Total  Size=     122826 bytes  File Size  =      85515 *\n",
      "*Baskets :        6 : Basket Size=      32000 bytes  Compression=   1.43     *\n",
      "*............................................................................*\n",
      "*Br   21 :Muon_dxyErr : Muon_dxyErr[nMuon]/F                                 *\n",
      "*Entries :    12793 : Total  Size=     122856 bytes  File Size  =      82267 *\n",
      "*Baskets :        6 : Basket Size=      32000 bytes  Compression=   1.49     *\n",
      "*............................................................................*\n",
      "*Br   22 :Muon_dz   : Muon_dz[nMuon]/F                                       *\n",
      "*Entries :    12793 : Total  Size=     122816 bytes  File Size  =      85750 *\n",
      "*Baskets :        6 : Basket Size=      32000 bytes  Compression=   1.43     *\n",
      "*............................................................................*\n",
      "*Br   23 :Muon_dzErr : Muon_dzErr[nMuon]/F                                   *\n",
      "*Entries :    12793 : Total  Size=     122846 bytes  File Size  =      81952 *\n",
      "*Baskets :        6 : Basket Size=      32000 bytes  Compression=   1.49     *\n",
      "*............................................................................*\n",
      "*Br   24 :Muon_jetIdx : Muon_jetIdx[nMuon]/I                                 *\n",
      "*Entries :    12793 : Total  Size=     122849 bytes  File Size  =      37401 *\n",
      "*Baskets :        6 : Basket Size=      32000 bytes  Compression=   3.27     *\n",
      "*............................................................................*\n",
      "*Br   25 :Muon_genPartIdx : Muon_genPartIdx[nMuon]/I                         *\n",
      "*Entries :    12793 : Total  Size=     122889 bytes  File Size  =      28294 *\n",
      "*Baskets :        6 : Basket Size=      32000 bytes  Compression=   4.32     *\n",
      "*............................................................................*\n",
      "*Br   26 :nElectron : nElectron/i                                            *\n",
      "*Entries :    12793 : Total  Size=      51833 bytes  File Size  =       3504 *\n",
      "*Baskets :        2 : Basket Size=      32000 bytes  Compression=  14.65     *\n",
      "*............................................................................*\n",
      "*Br   27 :Electron_pt : Electron_pt[nElectron]/F                             *\n",
      "*Entries :    12793 : Total  Size=      57832 bytes  File Size  =      10377 *\n",
      "*Baskets :        4 : Basket Size=      32000 bytes  Compression=   5.51     *\n",
      "*............................................................................*\n",
      "*Br   28 :Electron_eta : Electron_eta[nElectron]/F                           *\n",
      "*Entries :    12793 : Total  Size=      57840 bytes  File Size  =      10616 *\n",
      "*Baskets :        4 : Basket Size=      32000 bytes  Compression=   5.39     *\n",
      "*............................................................................*\n",
      "*Br   29 :Electron_phi : Electron_phi[nElectron]/F                           *\n",
      "*Entries :    12793 : Total  Size=      57840 bytes  File Size  =      10637 *\n",
      "*Baskets :        4 : Basket Size=      32000 bytes  Compression=   5.38     *\n",
      "*............................................................................*\n",
      "*Br   30 :Electron_mass : Electron_mass[nElectron]/F                         *\n",
      "*Entries :    12793 : Total  Size=      57848 bytes  File Size  =      10625 *\n",
      "*Baskets :        4 : Basket Size=      32000 bytes  Compression=   5.39     *\n",
      "*............................................................................*\n",
      "*Br   31 :Electron_charge : Electron_charge[nElectron]/I                     *\n",
      "*Entries :    12793 : Total  Size=      57857 bytes  File Size  =       5476 *\n",
      "*Baskets :        4 : Basket Size=      32000 bytes  Compression=  10.45     *\n",
      "*............................................................................*\n",
      "*Br   32 :Electron_pfRelIso03_all : Electron_pfRelIso03_all[nElectron]/F     *\n",
      "*Entries :    12793 : Total  Size=      57928 bytes  File Size  =       7110 *\n",
      "*Baskets :        4 : Basket Size=      32000 bytes  Compression=   8.05     *\n",
      "*............................................................................*\n",
      "*Br   33 :Electron_dxy : Electron_dxy[nElectron]/F                           *\n",
      "*Entries :    12793 : Total  Size=      57840 bytes  File Size  =      10778 *\n",
      "*Baskets :        4 : Basket Size=      32000 bytes  Compression=   5.31     *\n",
      "*............................................................................*\n",
      "*Br   34 :Electron_dxyErr : Electron_dxyErr[nElectron]/F                     *\n",
      "*Entries :    12793 : Total  Size=      57864 bytes  File Size  =      10514 *\n",
      "*Baskets :        4 : Basket Size=      32000 bytes  Compression=   5.44     *\n",
      "*............................................................................*\n",
      "*Br   35 :Electron_dz : Electron_dz[nElectron]/F                             *\n",
      "*Entries :    12793 : Total  Size=      57832 bytes  File Size  =      10783 *\n",
      "*Baskets :        4 : Basket Size=      32000 bytes  Compression=   5.31     *\n",
      "*............................................................................*\n",
      "*Br   36 :Electron_dzErr : Electron_dzErr[nElectron]/F                       *\n",
      "*Entries :    12793 : Total  Size=      57856 bytes  File Size  =      10562 *\n",
      "*Baskets :        4 : Basket Size=      32000 bytes  Compression=   5.42     *\n",
      "*............................................................................*\n",
      "*Br   37 :Electron_cutBasedId : Electron_cutBasedId[nElectron]/O             *\n",
      "*Entries :    12793 : Total  Size=      53624 bytes  File Size  =       4988 *\n",
      "*Baskets :        4 : Basket Size=      32000 bytes  Compression=  10.62     *\n",
      "*............................................................................*\n",
      "*Br   38 :Electron_pfId : Electron_pfId[nElectron]/O                         *\n",
      "*Entries :    12793 : Total  Size=      53576 bytes  File Size  =       5233 *\n",
      "*Baskets :        4 : Basket Size=      32000 bytes  Compression=  10.12     *\n",
      "*............................................................................*\n",
      "*Br   39 :Electron_jetIdx : Electron_jetIdx[nElectron]/I                     *\n",
      "*Entries :    12793 : Total  Size=      57857 bytes  File Size  =       6435 *\n",
      "*Baskets :        4 : Basket Size=      32000 bytes  Compression=   8.89     *\n",
      "*............................................................................*\n",
      "*Br   40 :Electron_genPartIdx : Electron_genPartIdx[nElectron]/I             *\n",
      "*Entries :    12793 : Total  Size=      57889 bytes  File Size  =       5908 *\n",
      "*Baskets :        4 : Basket Size=      32000 bytes  Compression=   9.69     *\n",
      "*............................................................................*\n",
      "*Br   41 :nTau      : nTau/i                                                 *\n",
      "*Entries :    12793 : Total  Size=      51803 bytes  File Size  =      12827 *\n",
      "*Baskets :        2 : Basket Size=      32000 bytes  Compression=   4.00     *\n",
      "*............................................................................*\n",
      "*Br   42 :Tau_pt    : Tau_pt[nTau]/F                                         *\n",
      "*Entries :    12793 : Total  Size=     348399 bytes  File Size  =     285915 *\n",
      "*Baskets :       13 : Basket Size=      32000 bytes  Compression=   1.22     *\n",
      "*............................................................................*\n",
      "*Br   43 :Tau_eta   : Tau_eta[nTau]/F                                        *\n",
      "*Entries :    12793 : Total  Size=     348416 bytes  File Size  =     296703 *\n",
      "*Baskets :       13 : Basket Size=      32000 bytes  Compression=   1.17     *\n",
      "*............................................................................*\n",
      "*Br   44 :Tau_phi   : Tau_phi[nTau]/F                                        *\n",
      "*Entries :    12793 : Total  Size=     348416 bytes  File Size  =     301958 *\n",
      "*Baskets :       13 : Basket Size=      32000 bytes  Compression=   1.15     *\n",
      "*............................................................................*\n",
      "*Br   45 :Tau_mass  : Tau_mass[nTau]/F                                       *\n",
      "*Entries :    12793 : Total  Size=     348433 bytes  File Size  =     264618 *\n",
      "*Baskets :       13 : Basket Size=      32000 bytes  Compression=   1.31     *\n",
      "*............................................................................*\n",
      "*Br   46 :Tau_charge : Tau_charge[nTau]/I                                    *\n",
      "*Entries :    12793 : Total  Size=     348460 bytes  File Size  =      52628 *\n",
      "*Baskets :       13 : Basket Size=      32000 bytes  Compression=   6.61     *\n",
      "*............................................................................*\n",
      "*Br   47 :Tau_decayMode : Tau_decayMode[nTau]/I                              *\n",
      "*Entries :    12793 : Total  Size=     348511 bytes  File Size  =      54012 *\n",
      "*Baskets :       13 : Basket Size=      32000 bytes  Compression=   6.44     *\n",
      "*............................................................................*\n",
      "*Br   48 :Tau_relIso_all : Tau_relIso_all[nTau]/F                            *\n",
      "*Entries :    12793 : Total  Size=     348535 bytes  File Size  =      86700 *\n",
      "*Baskets :       13 : Basket Size=      32000 bytes  Compression=   4.01     *\n",
      "*............................................................................*\n",
      "*Br   49 :Tau_jetIdx : Tau_jetIdx[nTau]/I                                    *\n",
      "*Entries :    12793 : Total  Size=     348460 bytes  File Size  =     103050 *\n",
      "*Baskets :       13 : Basket Size=      32000 bytes  Compression=   3.37     *\n",
      "*............................................................................*\n",
      "*Br   50 :Tau_genPartIdx : Tau_genPartIdx[nTau]/I                            *\n",
      "*Entries :    12793 : Total  Size=     348528 bytes  File Size  =      62275 *\n",
      "*Baskets :       13 : Basket Size=      32000 bytes  Compression=   5.59     *\n",
      "*............................................................................*\n",
      "*Br   51 :Tau_idDecayMode : Tau_idDecayMode[nTau]/O                          *\n",
      "*Entries :    12793 : Total  Size=     126206 bytes  File Size  =      38633 *\n",
      "*Baskets :        6 : Basket Size=      32000 bytes  Compression=   3.25     *\n",
      "*............................................................................*\n",
      "*Br   52 :Tau_idIsoRaw : Tau_idIsoRaw[nTau]/F                                *\n",
      "*Entries :    12793 : Total  Size=     348501 bytes  File Size  =      59833 *\n",
      "*Baskets :       13 : Basket Size=      32000 bytes  Compression=   5.81     *\n",
      "*............................................................................*\n",
      "*Br   53 :Tau_idIsoVLoose : Tau_idIsoVLoose[nTau]/O                          *\n",
      "*Entries :    12793 : Total  Size=     126206 bytes  File Size  =      38400 *\n",
      "*Baskets :        6 : Basket Size=      32000 bytes  Compression=   3.27     *\n",
      "*............................................................................*\n",
      "*Br   54 :Tau_idIsoLoose : Tau_idIsoLoose[nTau]/O                            *\n",
      "*Entries :    12793 : Total  Size=     126196 bytes  File Size  =      38017 *\n",
      "*Baskets :        6 : Basket Size=      32000 bytes  Compression=   3.30     *\n",
      "*............................................................................*\n",
      "*Br   55 :Tau_idIsoMedium : Tau_idIsoMedium[nTau]/O                          *\n",
      "*Entries :    12793 : Total  Size=     126206 bytes  File Size  =      37310 *\n",
      "*Baskets :        6 : Basket Size=      32000 bytes  Compression=   3.37     *\n",
      "*............................................................................*\n",
      "*Br   56 :Tau_idIsoTight : Tau_idIsoTight[nTau]/O                            *\n",
      "*Entries :    12793 : Total  Size=     126196 bytes  File Size  =      37073 *\n",
      "*Baskets :        6 : Basket Size=      32000 bytes  Compression=   3.39     *\n",
      "*............................................................................*\n",
      "*Br   57 :Tau_idAntiEleLoose : Tau_idAntiEleLoose[nTau]/O                    *\n",
      "*Entries :    12793 : Total  Size=     126236 bytes  File Size  =      39196 *\n",
      "*Baskets :        6 : Basket Size=      32000 bytes  Compression=   3.20     *\n",
      "*............................................................................*\n",
      "*Br   58 :Tau_idAntiEleMedium : Tau_idAntiEleMedium[nTau]/O                  *\n",
      "*Entries :    12793 : Total  Size=     126246 bytes  File Size  =      38929 *\n",
      "*Baskets :        6 : Basket Size=      32000 bytes  Compression=   3.23     *\n",
      "*............................................................................*\n",
      "*Br   59 :Tau_idAntiEleTight : Tau_idAntiEleTight[nTau]/O                    *\n",
      "*Entries :    12793 : Total  Size=     126236 bytes  File Size  =      30317 *\n",
      "*Baskets :        6 : Basket Size=      32000 bytes  Compression=   4.14     *\n",
      "*............................................................................*\n",
      "*Br   60 :Tau_idAntiMuLoose : Tau_idAntiMuLoose[nTau]/O                      *\n",
      "*Entries :    12793 : Total  Size=     126226 bytes  File Size  =      38751 *\n",
      "*Baskets :        6 : Basket Size=      32000 bytes  Compression=   3.24     *\n",
      "*............................................................................*\n",
      "*Br   61 :Tau_idAntiMuMedium : Tau_idAntiMuMedium[nTau]/O                    *\n",
      "*Entries :    12793 : Total  Size=     126236 bytes  File Size  =      38748 *\n",
      "*Baskets :        6 : Basket Size=      32000 bytes  Compression=   3.24     *\n",
      "*............................................................................*\n",
      "*Br   62 :Tau_idAntiMuTight : Tau_idAntiMuTight[nTau]/O                      *\n",
      "*Entries :    12793 : Total  Size=     126226 bytes  File Size  =      38798 *\n",
      "*Baskets :        6 : Basket Size=      32000 bytes  Compression=   3.24     *\n",
      "*............................................................................*\n",
      "*Br   63 :MET_pt    : MET_pt/F                                               *\n",
      "*Entries :    12793 : Total  Size=      51815 bytes  File Size  =      46042 *\n",
      "*Baskets :        2 : Basket Size=      32000 bytes  Compression=   1.11     *\n",
      "*............................................................................*\n",
      "*Br   64 :MET_phi   : MET_phi/F                                              *\n",
      "*Entries :    12793 : Total  Size=      51821 bytes  File Size  =      47625 *\n",
      "*Baskets :        2 : Basket Size=      32000 bytes  Compression=   1.08     *\n",
      "*............................................................................*\n",
      "*Br   65 :MET_sumet : MET_sumet/F                                            *\n",
      "*Entries :    12793 : Total  Size=      51833 bytes  File Size  =      45272 *\n",
      "*Baskets :        2 : Basket Size=      32000 bytes  Compression=   1.13     *\n",
      "*............................................................................*\n",
      "*Br   66 :MET_significance : MET_significance/F                              *\n",
      "*Entries :    12793 : Total  Size=      51875 bytes  File Size  =      47109 *\n",
      "*Baskets :        2 : Basket Size=      32000 bytes  Compression=   1.09     *\n",
      "*............................................................................*\n",
      "*Br   67 :MET_CovXX : MET_CovXX/F                                            *\n",
      "*Entries :    12793 : Total  Size=      51833 bytes  File Size  =      45134 *\n",
      "*Baskets :        2 : Basket Size=      32000 bytes  Compression=   1.14     *\n",
      "*............................................................................*\n",
      "*Br   68 :MET_CovXY : MET_CovXY/F                                            *\n",
      "*Entries :    12793 : Total  Size=      51833 bytes  File Size  =      47971 *\n",
      "*Baskets :        2 : Basket Size=      32000 bytes  Compression=   1.07     *\n",
      "*............................................................................*\n",
      "*Br   69 :MET_CovYY : MET_CovYY/F                                            *\n",
      "*Entries :    12793 : Total  Size=      51833 bytes  File Size  =      45171 *\n",
      "*Baskets :        2 : Basket Size=      32000 bytes  Compression=   1.14     *\n",
      "*............................................................................*\n",
      "*Br   70 :nJet      : nJet/i                                                 *\n",
      "*Entries :    12793 : Total  Size=      51803 bytes  File Size  =      12234 *\n",
      "*Baskets :        2 : Basket Size=      32000 bytes  Compression=   4.19     *\n",
      "*............................................................................*\n",
      "*Br   71 :Jet_pt    : Jet_pt[nJet]/F                                         *\n",
      "*Entries :    12793 : Total  Size=     281849 bytes  File Size  =     221102 *\n",
      "*Baskets :       11 : Basket Size=      32000 bytes  Compression=   1.27     *\n",
      "*............................................................................*\n",
      "*Br   72 :Jet_eta   : Jet_eta[nJet]/F                                        *\n",
      "*Entries :    12793 : Total  Size=     281864 bytes  File Size  =     228530 *\n",
      "*Baskets :       11 : Basket Size=      32000 bytes  Compression=   1.23     *\n",
      "*............................................................................*\n",
      "*Br   73 :Jet_phi   : Jet_phi[nJet]/F                                        *\n",
      "*Entries :    12793 : Total  Size=     281864 bytes  File Size  =     236260 *\n",
      "*Baskets :       11 : Basket Size=      32000 bytes  Compression=   1.19     *\n",
      "*............................................................................*\n",
      "*Br   74 :Jet_mass  : Jet_mass[nJet]/F                                       *\n",
      "*Entries :    12793 : Total  Size=     281879 bytes  File Size  =     223885 *\n",
      "*Baskets :       11 : Basket Size=      32000 bytes  Compression=   1.26     *\n",
      "*............................................................................*\n",
      "*Br   75 :Jet_puId  : Jet_puId[nJet]/O                                       *\n",
      "*Entries :    12793 : Total  Size=     109465 bytes  File Size  =      20660 *\n",
      "*Baskets :        5 : Basket Size=      32000 bytes  Compression=   5.27     *\n",
      "*............................................................................*\n",
      "*Br   76 :Jet_btag  : Jet_btag[nJet]/F                                       *\n",
      "*Entries :    12793 : Total  Size=     281879 bytes  File Size  =      72942 *\n",
      "*Baskets :       11 : Basket Size=      32000 bytes  Compression=   3.86     *\n",
      "*............................................................................*\n",
      "*Br   77 :nGenPart  : nGenPart/i                                             *\n",
      "*Entries :    12793 : Total  Size=      51827 bytes  File Size  =      13249 *\n",
      "*Baskets :        2 : Basket Size=      32000 bytes  Compression=   3.87     *\n",
      "*............................................................................*\n",
      "*Br   78 :GenPart_pt : GenPart_pt[nGenPart]/F                                *\n",
      "*Entries :    12793 : Total  Size=     424937 bytes  File Size  =     185527 *\n",
      "*Baskets :       15 : Basket Size=      32000 bytes  Compression=   2.29     *\n",
      "*............................................................................*\n",
      "*Br   79 :GenPart_eta : GenPart_eta[nGenPart]/F                              *\n",
      "*Entries :    12793 : Total  Size=     424956 bytes  File Size  =     185664 *\n",
      "*Baskets :       15 : Basket Size=      32000 bytes  Compression=   2.28     *\n",
      "*............................................................................*\n",
      "*Br   80 :GenPart_phi : GenPart_phi[nGenPart]/F                              *\n",
      "*Entries :    12793 : Total  Size=     424956 bytes  File Size  =     185111 *\n",
      "*Baskets :       15 : Basket Size=      32000 bytes  Compression=   2.29     *\n",
      "*............................................................................*\n",
      "*Br   81 :GenPart_mass : GenPart_mass[nGenPart]/F                            *\n",
      "*Entries :    12793 : Total  Size=     424975 bytes  File Size  =      58863 *\n",
      "*Baskets :       15 : Basket Size=      32000 bytes  Compression=   7.21     *\n",
      "*............................................................................*\n",
      "*Br   82 :GenPart_pdgId : GenPart_pdgId[nGenPart]/I                          *\n",
      "*Entries :    12793 : Total  Size=     424987 bytes  File Size  =      90863 *\n",
      "*Baskets :       15 : Basket Size=      32000 bytes  Compression=   4.67     *\n",
      "*............................................................................*\n",
      "*Br   83 :GenPart_status : GenPart_status[nGenPart]/I                        *\n",
      "*Entries :    12793 : Total  Size=     425006 bytes  File Size  =      28832 *\n",
      "*Baskets :       15 : Basket Size=      32000 bytes  Compression=  14.72     *\n",
      "*............................................................................*\n"
     ]
    }
   ],
   "source": [
    "t.Print()"
   ]
  },
  {
   "cell_type": "markdown",
   "metadata": {},
   "source": [
    "### Question: Why do we need a different data format for the Muon_pt branch?"
   ]
  },
  {
   "cell_type": "markdown",
   "metadata": {},
   "source": [
    "### TTree::Draw\n",
    "\n",
    "Another very handy way to see the data is the `Draw` method.\n",
    "\n",
    "This is an internal method to loop over all the events on a branch (very efficiently!),\n",
    "\n",
    "and fill an histogram from the branch content\n",
    "\n",
    "To visualize the histogram, we first need to create a Canvas.\n"
   ]
  },
  {
   "cell_type": "code",
   "execution_count": 5,
   "metadata": {},
   "outputs": [],
   "source": [
    "c = r.TCanvas('c1','c1',800,600)"
   ]
  },
  {
   "cell_type": "markdown",
   "metadata": {},
   "source": [
    "For example, we can look at the branch called `nMuon`"
   ]
  },
  {
   "cell_type": "markdown",
   "metadata": {},
   "source": [
    "### Question: Can you guess what does this histogram represents?"
   ]
  },
  {
   "cell_type": "markdown",
   "metadata": {},
   "source": [
    "The branch names usually contains good description of what does it contain.\n",
    "\n",
    "Similarly, we can explore another branch called `PV_npvs` as well"
   ]
  },
  {
   "cell_type": "code",
   "execution_count": 9,
   "metadata": {},
   "outputs": [
    {
     "data": {
      "image/png": "[encoded data removed]",
      "text/plain": [
       "<IPython.core.display.Image object>"
      ]
     },
     "metadata": {},
     "output_type": "display_data"
    }
   ],
   "source": [
    "t.Draw(\"PV_npvs\")\n",
    "c.Draw()"
   ]
  },
  {
   "cell_type": "markdown",
   "metadata": {},
   "source": [
    "### Question: Can you guess what `PV_npvs` represents then?"
   ]
  },
  {
   "cell_type": "markdown",
   "metadata": {},
   "source": [
    "### Looping a TTree with a histogram\n",
    "\n",
    "`TTree.Draw()` can only offer a simple plotting, for more custom analysis, we can go through the `TTree` event-by-event by building a for-loop.\n",
    "\n",
    "Let's use a simple for-loop to re-create the `nMuon` histogram.\n",
    "\n",
    " - Learn how to create a histogram\n",
    " - Learn how to write a loop structure for a TTree"
   ]
  },
  {
   "cell_type": "markdown",
   "metadata": {},
   "source": [
    "### Defining your own 1D histogram\n",
    "\n",
    "`ROOT` has a very powerful library of histogram class called `TH1` with extensive functionalities.\n",
    "\n",
    "You can construct a very simple 1D histogram like this:\n",
    "\n",
    "`h = r.TH1F(\"name\",\"title\", nBin, x_low, x_hi)` \n",
    "\n",
    " - `TH1F` is a sub-class of `TH1`, using a `float` to store the data of each bin of the histogram\n",
    " - `name` is the name of the histogram object, it is used to identify the histogram object (h, in this case) in a file\n",
    " - `title` is the title to be displayed in plotting\n",
    " - `nBin` is the number of bins \n",
    " - `x_low,x_hi` are the lower and upper range of the 1D histogram respectively.\n",
    " \n",
    " \n",
    "Further documentation about `TH1` can be found here:\n",
    "https://root.cern.ch/doc/master/classTH1.html"
   ]
  },
  {
   "cell_type": "markdown",
   "metadata": {},
   "source": [
    "### Let's define our first histogram"
   ]
  },
  {
   "cell_type": "code",
   "execution_count": 10,
   "metadata": {},
   "outputs": [
    {
     "data": {
      "image/png": "[encoded data removed]",
      "text/plain": [
       "<IPython.core.display.Image object>"
      ]
     },
     "metadata": {},
     "output_type": "display_data"
    }
   ],
   "source": [
    "h_nMuon = r.TH1F('nMuon','nMuon',10,0,10)\n",
    "h_nMuon.Draw()\n",
    "c.Update()\n",
    "c.Draw()"
   ]
  },
  {
   "cell_type": "markdown",
   "metadata": {},
   "source": [
    "### Filling a histogram\n",
    "\n",
    "Say, if you have an event with 4 muons in it. You will want to put 1 event in the 4-th bin."
   ]
  },
  {
   "cell_type": "code",
   "execution_count": 11,
   "metadata": {},
   "outputs": [
    {
     "data": {
      "image/png": "[encoded data removed]",
      "text/plain": [
       "<IPython.core.display.Image object>"
      ]
     },
     "metadata": {},
     "output_type": "display_data"
    }
   ],
   "source": [
    "h_nMuon.Fill(4)\n",
    "c.Update()\n",
    "c.Draw()"
   ]
  },
  {
   "cell_type": "code",
   "execution_count": 12,
   "metadata": {},
   "outputs": [],
   "source": [
    "## now let's clear the bin content, by setting the 5th bin to 0\n",
    "h_nMuon.SetBinContent(5,0)"
   ]
  },
  {
   "cell_type": "markdown",
   "metadata": {},
   "source": [
    "### Looping a TTree\n",
    "\n",
    "By default, all the branches are loaded as the methods of the TTree object.\n",
    "\n",
    "For example, you can simply access the `nMuon` branch like this:\n",
    "\n",
    "`nMuon = t.nMuon`\n",
    "\n",
    "**It will return the value of the tree is currently located\n",
    "\n",
    "To access different events, we can do:\n",
    "\n",
    "`t.GetEntry(i)`\n",
    "\n",
    "This will set the memeory address to load the i-th entry in the Tree.\n",
    "\n",
    "Combining both, a TTree can be looped over with the simple loop structure like this:\n",
    "\n",
    "```\n",
    "for i in range(0,t.GetEntries()):\n",
    "    t.GetEntry(i)\n",
    "    nMuon = t.nMuon\n",
    "    h_nMuon.Fill(nMuon)\n",
    "```"
   ]
  },
  {
   "cell_type": "code",
   "execution_count": 13,
   "metadata": {},
   "outputs": [],
   "source": [
    "for i in range(0,t.GetEntries()):\n",
    "    t.GetEntry(i)\n",
    "    nMuon = t.nMuon\n",
    "    h_nMuon.Fill(nMuon)"
   ]
  },
  {
   "cell_type": "code",
   "execution_count": 14,
   "metadata": {},
   "outputs": [
    {
     "data": {
      "image/png": "[encoded data removed]",
      "text/plain": [
       "<IPython.core.display.Image object>"
      ]
     },
     "metadata": {},
     "output_type": "display_data"
    }
   ],
   "source": [
    "h_nMuon.Draw()\n",
    "c.Update()\n",
    "c.Draw()"
   ]
  },
  {
   "cell_type": "markdown",
   "metadata": {},
   "source": [
    "# Part 3. Plotting the di-muon mass spectrum\n",
    "\n",
    "Now we have all the ingredients to plot the di-muon mass spectrum.\n",
    "\n",
    "First, we will need a histogram."
   ]
  },
  {
   "cell_type": "code",
   "execution_count": 15,
   "metadata": {},
   "outputs": [],
   "source": [
    "h_dimuon_mass = r.TH1F('DiMuon_mass','DiMuon_mass',200,0,200)\n",
    "h_dimuon_mass.Sumw2()"
   ]
  },
  {
   "cell_type": "markdown",
   "metadata": {},
   "source": [
    "You may find the following formulas useful:\n",
    "\n",
    "Coordinate transformation between pesudeo-rapidity and cartesian coordinates:\n",
    "\n",
    "$\n",
    "p_x = p_T cos(\\phi)\\\\\n",
    "p_y = p_T sin(\\phi)\\\\\n",
    "p_z = p_T sinh(\\eta)\n",
    "$\n",
    "\n",
    "Vector additions and Energy-momentum relations:\n",
    "\n",
    "$\n",
    "E^2 = |\\vec{p}|^2 + m^2\\\\\n",
    "\\vec{p_1}+\\vec{p_2} =  (p1_x+p2_x) \\hat{x}+ (p1_y+p2_y) \\hat{y}+ (p1_z+p2_z) \\hat{z}\\\\\n",
    "$"
   ]
  },
  {
   "cell_type": "code",
   "execution_count": 16,
   "metadata": {},
   "outputs": [],
   "source": [
    "## write a function that computes the invariant mass given the event\n",
    "## pt, phi, eta, mass are the arrays of the muons in each event\n",
    "##\n",
    "def invmass(pt,phi,eta,mass):\n",
    "    m = 0\n",
    "    px = pt[0]*np.cos(phi[0])+pt[1]*np.cos(phi[1])\n",
    "    py = pt[0]*np.sin(phi[0])+pt[1]*np.sin(phi[1])\n",
    "    theta0 = 2.*np.arctan(np.exp(-eta[0]))\n",
    "    theta1 = 2.*np.arctan(np.exp(-eta[1]))\n",
    "    pz = pt[0]/np.tan(theta0) + pt[1]/np.tan(theta1)\n",
    "    e0 = np.sqrt(pt[0]**2 + (pt[0]/np.tan(theta0))**2 + mass[0]**2)\n",
    "    e1 = np.sqrt(pt[1]**2 + (pt[1]/np.tan(theta1))**2 + mass[1]**2)\n",
    "    \n",
    "    m = np.sqrt((e0+e1)**2 - px**2 - py**2 - pz**2)\n",
    "    \n",
    "    ## OR in the massless muon limit, the formula can be more compact:\n",
    "    #m  = np.sqrt(2*pt[0]*pt[1]*(np.cosh(eta[0]-eta[1])-np.cos(phi[0]-phi[1])))\n",
    "    return m"
   ]
  },
  {
   "cell_type": "code",
   "execution_count": 22,
   "metadata": {},
   "outputs": [],
   "source": [
    "## write a function that select \n",
    "def selectMuons(muons):\n",
    "    select = False\n",
    "    if muons['n']==2:        select = True\n",
    "    return select"
   ]
  },
  {
   "cell_type": "code",
   "execution_count": 23,
   "metadata": {},
   "outputs": [
    {
     "data": {
      "image/png": "[encoded data removed]",
      "text/plain": [
       "<IPython.core.display.Image object>"
      ]
     },
     "metadata": {},
     "output_type": "display_data"
    }
   ],
   "source": [
    "for i in range(0,nEntries):\n",
    "    t.GetEntry(i)\n",
    "    nMuon   = t.nMuon\n",
    "    pt      = np.array(t.Muon_pt)          # note: this is an array\n",
    "    phi     = np.array(t.Muon_phi)         # note: this is an array\n",
    "    eta     = np.array(t.Muon_eta)         # note: this is an array \n",
    "    mass    = np.array(t.Muon_mass)        # note: this is an array\n",
    "    isTight = np.array(t.Muon_tightId)     # note: this is an array\n",
    "    charge  = np.array(t.Muon_charge)      # note: this is an array\n",
    "    muons   = {\n",
    "        'n':nMuon,\n",
    "        'pt':pt,\n",
    "        'phi':phi,\n",
    "        'eta':eta,\n",
    "        'isTight':isTight,\n",
    "        'charge':charge,\n",
    "    }\n",
    "    if selectMuons(muons):\n",
    "        h_dimuon_mass.Fill(invmass(pt,phi,eta,mass))\n",
    "        \n",
    "h_dimuon_mass.Draw('hist')\n",
    "h_dimuon_mass.GetXaxis().SetTitle('m_{#mu#mu}[GeV]')\n",
    "c.Update()\n",
    "c.SetLogy(1)\n",
    "c.Draw()"
   ]
  },
  {
   "cell_type": "markdown",
   "metadata": {},
   "source": [
    "### RESET the histogram if you want to try again!"
   ]
  },
  {
   "cell_type": "code",
   "execution_count": 99,
   "metadata": {},
   "outputs": [],
   "source": [
    "for i in range(0,201): h_dimuon_mass.SetBinContent(i,0)"
   ]
  },
  {
   "cell_type": "markdown",
   "metadata": {},
   "source": [
    "# Part 3 Extracting the Z-boson mass\n",
    "\n",
    "Let's try to extract the Z-boson mass by fitting the peak with a Gaussian function.\n",
    "\n",
    "Mathematical functions in ROOT can be constructed with the class `TF1`*\n",
    "Gaussian function is one of the built-in function in ROOT with the following form:\n",
    "\n",
    "$f(x) = [0] exp\\left(-\\frac{1}{2}((x-[1])/[2]\\right)^2$\n",
    "\n",
    "Here `[0],[1],[2]` are the parameters of the function, corresponding to the `amplitude`, `mean` and `width` of the Gaussian function.\n",
    "\n",
    "Let's create a gaussian function, initialize it with some values, and draw it.\n",
    "\n",
    "* Full documentation of the `TF1` class\n",
    "https://root.cern.ch/doc/master/classTF1.html"
   ]
  },
  {
   "cell_type": "code",
   "execution_count": 24,
   "metadata": {},
   "outputs": [
    {
     "data": {
      "image/png": "[encoded data removed]",
      "text/plain": [
       "<IPython.core.display.Image object>"
      ]
     },
     "metadata": {},
     "output_type": "display_data"
    }
   ],
   "source": [
    "## Here, 'f1' is the name of the object, \n",
    "## 'gaus' is a special string that corresponds to the gaussian formula above\n",
    "## 85 and 95 is the range of the function.\n",
    "## i.e. we are insterested only in that mass window.\n",
    "gaus = r.TF1('f1','gaus',75,105)\n",
    "gaus.SetParameters(1,90,10)\n",
    "gaus.Draw()\n",
    "c.SetLogy(0)\n",
    "c.Draw()"
   ]
  },
  {
   "cell_type": "markdown",
   "metadata": {},
   "source": [
    "`TH1` has basic fit function implemented.\n",
    "\n",
    "The default option is the least square fit, \n",
    "\n",
    "$\n",
    "\\chi^2 = \\sum \\left((y_i - f(x_i) )/e_i \\right)^2\n",
    "$\n",
    "\n",
    "The option `R` tells the fit to restrict to the range defined by the function\n",
    "\n",
    "The options `S` simply return the fit result as an object instead of just print-outs.\n",
    "\n",
    "The full options can be found here:\n",
    "\n",
    "https://root.cern.ch/doc/master/classTH1.html#a63eb028df86bc86c8e20c989eb23fb2a"
   ]
  },
  {
   "cell_type": "code",
   "execution_count": 30,
   "metadata": {},
   "outputs": [
    {
     "name": "stdout",
     "output_type": "stream",
     "text": [
      " FCN=751.036 FROM MIGRAD    STATUS=CONVERGED      89 CALLS          90 TOTAL\n",
      "                     EDM=7.05961e-08    STRATEGY= 1      ERROR MATRIX ACCURATE \n",
      "  EXT PARAMETER                                   STEP         FIRST   \n",
      "  NO.   NAME      VALUE            ERROR          SIZE      DERIVATIVE \n",
      "   1  Constant     6.99743e+02   1.69184e+01   1.34272e-01   2.14013e-05\n",
      "   2  Mean         9.08432e+01   4.11189e-02   5.32781e-04  -4.32965e-03\n",
      "   3  Sigma        2.77650e+00   5.40462e-02   4.03131e-05   9.77698e-02\n"
     ]
    }
   ],
   "source": [
    "fitResult = h_dimuon_mass.Fit(gaus,'RS')"
   ]
  },
  {
   "cell_type": "code",
   "execution_count": 31,
   "metadata": {
    "scrolled": true
   },
   "outputs": [
    {
     "data": {
      "image/png": "[encoded data removed]",
      "text/plain": [
       "<IPython.core.display.Image object>"
      ]
     },
     "metadata": {},
     "output_type": "display_data"
    }
   ],
   "source": [
    "h_dimuon_mass.Draw()\n",
    "c.Draw()"
   ]
  },
  {
   "cell_type": "markdown",
   "metadata": {},
   "source": [
    "### Part 3a Quality of the fit"
   ]
  },
  {
   "cell_type": "code",
   "execution_count": 27,
   "metadata": {},
   "outputs": [
    {
     "name": "stdout",
     "output_type": "stream",
     "text": [
      "Checking fit quality:\n",
      "chi2 = 751.036\n",
      "NDF = 27.000\n",
      "chi2/NDF = 27.816\n"
     ]
    }
   ],
   "source": [
    "chi2 = gaus.GetChisquare()\n",
    "NDF  = gaus.GetNDF()\n",
    "print('Checking fit quality:')\n",
    "print(\"chi2 = %.3f\\nNDF = %.3f\\nchi2/NDF = %.3f\"% (chi2,NDF, chi2/NDF))"
   ]
  },
  {
   "cell_type": "markdown",
   "metadata": {},
   "source": [
    "## Questions:\n",
    "- How does the width of the Gaussian (calculate the full width at half maximum from sigma) compares with the known intrinsic width of the Z boson?\n"
   ]
  },
  {
   "cell_type": "code",
   "execution_count": 35,
   "metadata": {},
   "outputs": [
    {
     "name": "stdout",
     "output_type": "stream",
     "text": [
      "6.5381643516\n"
     ]
    }
   ],
   "source": [
    "FWHM = 2*(2*math.log(2))**0.5 * gaus.GetParameter('Sigma')\n",
    "print(FWHM)"
   ]
  },
  {
   "cell_type": "markdown",
   "metadata": {},
   "source": [
    "## ANS:\n",
    " - The width you obtained is much bigger than the intrinsic width of the Z boson.\n",
    " - The reason can be attributed to:\n",
    "   - poor fit qualities (There are background events un-accounted for in the fit)\n",
    "   - Bin width (1GeV) is wider than detector resolution \n",
    "   - Fit window is too wide to accept background events\n",
    " - The current best fit value for Z boson width is `2.4952±0.0023` GeV*. This is a very precise measurement!\n",
    " - Width of Z boson has profound physics implication! For example, by comparing the width of the Z boson and measuring the branching ratios of all the decay modes, we can deduce if Z boson is having extra-undetected decay modes. This has put a very tight constain with the number of lepton generations that couples to the Z boson. \n",
    "\n",
    "*http://pdg.lbl.gov/2018/listings/rpp2018-list-z-boson.pdf"
   ]
  },
  {
   "cell_type": "markdown",
   "metadata": {},
   "source": [
    "# Part 4 Take-home exercise"
   ]
  },
  {
   "cell_type": "markdown",
   "metadata": {},
   "source": [
    "# Part 4a Knowing more about the muons\n",
    "\n",
    "Now we have the basic tools to explore a ROOT file and analysis. Let's learn deeper about the muons!\n",
    "\n",
    "Here are some questions to think about:\n",
    "\n",
    "- plot muon pT for the leading, subleading, and third-leading muon (when it's there) and explain the features seen in the plot;\n",
    "- plot muon eta for the leading and subleading muons and explain the feature seen in the plot;\n",
    "- plot isTight flag for the three muons;\n",
    "- plot the muon multiplicity for isTight muons;\n",
    "\n",
    "These questions can be solved in a similar way as the `nMuon` example, with the addition of some control statements during the histogram filling.\n",
    "\n",
    "### Hint: all the `Muon_*` branch has already been sorted in decending order of `pt` \n",
    "i.e `Muon_pt[0]` corresponds to the pt of the leading muon, `Muon_eta[0]` would be the $\\eta$ of the same muon\n",
    "\n",
    "\n",
    "To help you get started, let's define some histograms for you."
   ]
  },
  {
   "cell_type": "code",
   "execution_count": 15,
   "metadata": {},
   "outputs": [],
   "source": [
    "## Define the histograms\n",
    "h_mu0_pt      = r.TH1F('h_mu0_pt'     ,'Leading muon pt',200,0,200)\n",
    "h_mu0_eta     = r.TH1F('h_mu0_eta'    ,'Leading muon eta',100,-5,5)\n",
    "h_mu0_isTight = r.TH1F('h_mu0_isTight','Leading muon isTight',2,0,2)\n",
    "\n",
    "h_mu1_pt      = r.TH1F('h_mu1_pt'  ,'Sub-leading muon pt',200,0,200)\n",
    "h_mu1_eta     = r.TH1F('h_mu1_eta' ,'Sub-leading muon eta',100,-5,5)\n",
    "h_mu1_isTight = r.TH1F('h_mu1_isTight','Sub-leading muon isTight',2,0,2)\n",
    "\n",
    "h_mu2_pt      = r.TH1F('h_mu2_pt','Third-Leading muon pt',200,0,200)\n",
    "h_mu2_isTight = r.TH1F('h_mu2_isTight','Third-leading muon isTight',2,0,2)\n",
    "\n",
    "h_nTightMuon  = r.TH1F('h_nTightMuon','Number of tight muons',10,0,10)\n",
    "\n",
    "#collect the histograms into a dic\n",
    "histograms = {\n",
    "        'h_mu0_pt'     :h_mu0_pt,\n",
    "        'h_mu0_eta'    :h_mu0_eta,\n",
    "        'h_mu0_isTight':h_mu0_isTight,\n",
    "        'h_mu1_pt'     :h_mu1_pt,\n",
    "        'h_mu1_eta'    :h_mu1_eta,\n",
    "        'h_mu1_isTight':h_mu1_isTight,\n",
    "        'h_mu2_pt'     :h_mu2_pt,\n",
    "        'h_mu2_isTight':h_mu2_isTight,\n",
    "        'h_nTightMuon' :h_nTightMuon,\n",
    "}"
   ]
  },
  {
   "cell_type": "code",
   "execution_count": 16,
   "metadata": {},
   "outputs": [],
   "source": [
    "for i in range(0,nEntries):\n",
    "    t.GetEntry(i)\n",
    "    nMuon   = t.nMuon\n",
    "    pt      = np.array(t.Muon_pt)          # note: this is an array\n",
    "    phi     = np.array(t.Muon_phi)         # note: this is an array\n",
    "    eta     = np.array(t.Muon_eta)         # note: this is an array \n",
    "    mass    = np.array(t.Muon_mass)        # note: this is an array\n",
    "    isTight = np.array(t.Muon_tightId)     # note: this is an array\n",
    "    charge  = np.array(t.Muon_charge)      # note: this is an array\n",
    "    muons   = {\n",
    "        'n':nMuon,\n",
    "        'pt':pt,\n",
    "        'phi':phi,\n",
    "        'eta':eta,\n",
    "        'isTight':isTight,\n",
    "        'charge':charge,\n",
    "    }\n",
    "    if nMuon==2 and muons['pt'][0]>20:    \n",
    "        h_mu0_pt.Fill(pt[0])\n",
    "        h_mu0_eta.Fill(eta[0])\n",
    "        h_mu0_isTight.Fill(isTight[0])\n",
    "        h_mu1_pt.Fill(pt[1])\n",
    "        h_mu1_eta.Fill(eta[1])\n",
    "        h_mu1_isTight.Fill(isTight[1])\n",
    "    if nMuon>=3:\n",
    "        h_mu2_pt.Fill(pt[2])\n",
    "        h_mu2_isTight.Fill(isTight[2])\n",
    "    nTight = 0\n",
    "    for i in range(0,nMuon):\n",
    "        if isTight[0]: nTight+=1\n",
    "    h_nTightMuon.Fill(nTight)"
   ]
  },
  {
   "cell_type": "markdown",
   "metadata": {},
   "source": [
    "### Drawing the muon pT histograms\n",
    "\n",
    "You can execute the following cells to check the histograms"
   ]
  },
  {
   "cell_type": "code",
   "execution_count": 26,
   "metadata": {},
   "outputs": [
    {
     "data": {
      "image/png": "[encoded data removed]",
      "text/plain": [
       "<IPython.core.display.Image object>"
      ]
     },
     "metadata": {},
     "output_type": "display_data"
    }
   ],
   "source": [
    "h_mu0_pt.SetLineColor(r.kGreen)   ## r.kRed is a global constant stored in ROOT, corresponding to the color code\n",
    "h_mu1_pt.SetLineColor(r.kRed)     ## r.kRed is a global constant stored in ROOT, corresponding to the color code\n",
    "h_mu2_pt.SetLineColor(r.kBlue)\n",
    "h_mu0_pt.Draw()\n",
    "h_mu1_pt.Draw('same')             ## the \"same\" option overlays the histograms on the same canvas\n",
    "h_mu2_pt.Draw('same')\n",
    "h_mu0_pt.GetXaxis().SetTitle('pT[GeV]')\n",
    "c.Update()\n",
    "c.Draw()"
   ]
  },
  {
   "cell_type": "markdown",
   "metadata": {},
   "source": [
    "### Question: What do you observe? Can you understand the distribution?\n",
    "\n",
    " - You can clearly see the leading muon and sub-leading muon has very similar pT distribution. This makes sense becuase they come from the a 2-body decay of a Z-boson, in which energy of the Z-boson is shared among the 2 muons.\n",
    " - The 3-rd muon in the event has a much softer pT spectrum (i.e. lower pT), simply because they are not decay products of a very massive Z-boson. They are, for example, muons from the hadrons decay inside the jets from pile-up."
   ]
  },
  {
   "cell_type": "markdown",
   "metadata": {},
   "source": [
    "### Drawing the muon eta histograms"
   ]
  },
  {
   "cell_type": "code",
   "execution_count": 18,
   "metadata": {},
   "outputs": [
    {
     "data": {
      "image/png": "[encoded data removed]",
      "text/plain": [
       "<IPython.core.display.Image object>"
      ]
     },
     "metadata": {},
     "output_type": "display_data"
    }
   ],
   "source": [
    "h_mu0_eta.Draw()\n",
    "h_mu0_eta.SetLineColor(r.kRed)     ## r.kRed is a global constant stored in ROOT, corresponding to the color code\n",
    "h_mu1_eta.SetLineColor(r.kBlue)\n",
    "h_mu1_eta.Draw('same')             ## the \"same\" option overlays the histograms on the same canvas\n",
    "h_mu0_eta.GetXaxis().SetTitle('#eta')\n",
    "c.Update()\n",
    "c.Draw()"
   ]
  },
  {
   "cell_type": "markdown",
   "metadata": {},
   "source": [
    "### Drawing isTight histograms"
   ]
  },
  {
   "cell_type": "code",
   "execution_count": 38,
   "metadata": {},
   "outputs": [
    {
     "data": {
      "image/png": "[encoded data removed]",
      "text/plain": [
       "<IPython.core.display.Image object>"
      ]
     },
     "metadata": {},
     "output_type": "display_data"
    }
   ],
   "source": [
    "h_mu0_isTight.Draw()\n",
    "h_mu0_isTight.SetLineColor(r.kRed)     ## r.kRed is a global constant stored in ROOT, corresponding to the color code\n",
    "h_mu1_isTight.SetLineColor(r.kBlue)\n",
    "h_mu2_isTight.SetLineColor(r.kGreen)\n",
    "h_mu1_isTight.Draw('same')             ## the \"same\" option overlays the histograms on the same canvas\n",
    "h_mu2_isTight.Draw('same')             ## the \"same\" option overlays the histograms on the same canvas\n",
    "h_mu0_isTight.GetXaxis().SetTitle('isTight')\n",
    "c.Update()\n",
    "c.SetLogy(1)\n",
    "c.Draw()"
   ]
  },
  {
   "cell_type": "code",
   "execution_count": 39,
   "metadata": {
    "scrolled": true
   },
   "outputs": [
    {
     "data": {
      "image/png": "[encoded data removed]",
      "text/plain": [
       "<IPython.core.display.Image object>"
      ]
     },
     "metadata": {},
     "output_type": "display_data"
    }
   ],
   "source": [
    "h_nTightMuon.Draw()\n",
    "c.SetLogy(0)\n",
    "c.Update()\n",
    "c.Draw()"
   ]
  },
  {
   "cell_type": "markdown",
   "metadata": {},
   "source": [
    "### Remember to reset the histograms if you want to re-fill them!"
   ]
  },
  {
   "cell_type": "code",
   "execution_count": 24,
   "metadata": {},
   "outputs": [],
   "source": [
    "for hname,h in histograms.items():\n",
    "    for b in range(0,h.GetNbinsX()):\n",
    "        h.SetBinContent(b,0)"
   ]
  },
  {
   "cell_type": "markdown",
   "metadata": {},
   "source": [
    "# Part 4b Di-muon selections:\n",
    " - Can we increase the number of events by using events with exactly two isTight muons, not exactly two muons?\n",
    "   - Try modifying the `selectMuon` function to test your ideas!\n",
    " - histogram the product of electric charges for the events with two tight muons; How often do we have same-sign muons?"
   ]
  },
  {
   "cell_type": "code",
   "execution_count": 41,
   "metadata": {},
   "outputs": [],
   "source": [
    "def selectGoodMuons(muons):\n",
    "    select = False\n",
    "    if muons['n']==2 and np.all(muons['isTight']) and muons['charge'][0]*muons['charge'][1]<0 and muons['pt'][0]>20:\n",
    "        select = True\n",
    "    return select"
   ]
  },
  {
   "cell_type": "code",
   "execution_count": 40,
   "metadata": {},
   "outputs": [
    {
     "data": {
      "image/png": "[encoded data removed]",
      "text/plain": [
       "<IPython.core.display.Image object>"
      ]
     },
     "metadata": {},
     "output_type": "display_data"
    }
   ],
   "source": [
    "## same-signed muons\n",
    "h_q_prod = r.TH1F('h_q_prod','Muon charge product',3,-1,2)\n",
    "for i in range(0,nEntries):\n",
    "    t.GetEntry(i)\n",
    "    if t.nMuon==2 and t.Muon_tightId[0]==1 and t.Muon_tightId[1]==1:\n",
    "        h_q_prod.Fill(t.Muon_charge[0]*t.Muon_charge[1])\n",
    "h_q_prod.Draw()\n",
    "c.Update()\n",
    "c.Draw()"
   ]
  },
  {
   "cell_type": "markdown",
   "metadata": {},
   "source": [
    "# Part 4c Z-boson decays\n",
    "\n",
    "Now that you have observe a Z boson, you do more in-depth analysis of those events coming from a Z boson decay.\n",
    "\n",
    "- For events within an invariant mass window near the Z peak, plot pT spectrum of the Z boson.\n",
    "- For these events, plot a correlation (2D histogram) of the opening azimuthal angle (phi) between the two muons and the pT of the Z boson.\n",
    "\n",
    "You can use the following histograms:"
   ]
  },
  {
   "cell_type": "code",
   "execution_count": 42,
   "metadata": {},
   "outputs": [],
   "source": [
    "h_pT_z    = r.TH1F('pT_z','pT of Z boson',100,0,100)\n",
    "h_pTz_phi = r.TH2F('pTz_phi','pT of Z boson v.s. #Delta#phi(#mu#mu)',100,0,100,50,0,math.pi)"
   ]
  },
  {
   "cell_type": "code",
   "execution_count": 43,
   "metadata": {},
   "outputs": [],
   "source": [
    "# We need to be careful when we calculate azimuthal angle difference, since computers do not know 2pi+phi = phi\n",
    "# so we need to have a function that returns deltaPhi to within 0 to pi\n",
    "def deltaPhi(phi1, phi2):\n",
    "    x = np.abs(phi1 - phi2)\n",
    "    if x >=  math.pi: \n",
    "        x = 2.*math.pi - x\n",
    "    return x"
   ]
  },
  {
   "cell_type": "code",
   "execution_count": 44,
   "metadata": {},
   "outputs": [],
   "source": [
    "for i in range(0,nEntries):\n",
    "    t.GetEntry(i)\n",
    "    nMuon   = t.nMuon\n",
    "    pt      = np.array(t.Muon_pt)          # note: this is an array\n",
    "    phi     = np.array(t.Muon_phi)         # note: this is an array\n",
    "    eta     = np.array(t.Muon_eta)         # note: this is an array \n",
    "    mass    = np.array(t.Muon_mass)        # note: this is an array\n",
    "    isTight = np.array(t.Muon_tightId)     # note: this is an array\n",
    "    charge  = np.array(t.Muon_charge)      # note: this is an array\n",
    "    muons   = {\n",
    "        'n':nMuon,\n",
    "        'pt':pt,\n",
    "        'phi':phi,\n",
    "        'eta':eta,\n",
    "        'isTight':isTight,\n",
    "        'charge':charge,\n",
    "    }\n",
    "    if selectMuons(muons):\n",
    "        m_mumu = invmass(pt,phi,eta,mass)\n",
    "        if m_mumu >89 and m_mumu<93:\n",
    "            px = pt[0]*np.cos(phi[0])+pt[1]*np.cos(phi[1])\n",
    "            py = pt[0]*np.sin(phi[0])+pt[1]*np.sin(phi[1])\n",
    "            pt_z = (px**2+py**2)**0.5\n",
    "            delta_phi = deltaPhi(phi[0],phi[1])\n",
    "            h_pT_z.Fill(pt_z)\n",
    "            h_pTz_phi.Fill(pt_z,delta_phi) "
   ]
  },
  {
   "cell_type": "code",
   "execution_count": 45,
   "metadata": {},
   "outputs": [
    {
     "data": {
      "image/png": "[encoded data removed]",
      "text/plain": [
       "<IPython.core.display.Image object>"
      ]
     },
     "metadata": {},
     "output_type": "display_data"
    }
   ],
   "source": [
    "h_pT_z.Draw()\n",
    "c.Update()\n",
    "c.Draw()"
   ]
  },
  {
   "cell_type": "code",
   "execution_count": 46,
   "metadata": {},
   "outputs": [
    {
     "data": {
      "image/png": "[encoded data removed]",
      "text/plain": [
       "<IPython.core.display.Image object>"
      ]
     },
     "metadata": {},
     "output_type": "display_data"
    }
   ],
   "source": [
    "h_pTz_phi.Draw('COLZ')\n",
    "c.Update()\n",
    "c.Draw()"
   ]
  },
  {
   "cell_type": "markdown",
   "metadata": {},
   "source": [
    "# Part 4d Improving fit quality\n",
    "\n",
    "- Modify the fit to have a sum of a Gaussian and an exponent to describe the background under the peak \n",
    "- Does this improve the fit chi2?\n",
    "- Can you think of other ways to improve the fit quality?\n",
    "\n",
    "You may want to read the `TF1` documentation to think of which functions to use!\n",
    "\n",
    "Here are some skeleton code for you to use:"
   ]
  },
  {
   "cell_type": "code",
   "execution_count": 47,
   "metadata": {},
   "outputs": [
    {
     "name": "stdout",
     "output_type": "stream",
     "text": [
      "[p0]*exp(-0.5*((x-[p1])/[p2])*((x-[p1])/[p2]))+exp([p3]+[p4]*x)\n"
     ]
    }
   ],
   "source": [
    "## Define the sum of gaussian and exponential:\n",
    "f2 = r.TF1('f2','gaus(0)+expo(3)',75,105)\n",
    "print(f2.GetFormula().GetExpFormula()) \n",
    "f2.SetParameters(1,90,10,6,-0.02)"
   ]
  },
  {
   "cell_type": "code",
   "execution_count": 48,
   "metadata": {},
   "outputs": [
    {
     "name": "stdout",
     "output_type": "stream",
     "text": [
      " FCN=222.768 FROM MIGRAD    STATUS=CONVERGED     307 CALLS         308 TOTAL\n",
      "                     EDM=9.57021e-10    STRATEGY= 1  ERROR MATRIX UNCERTAINTY   1.1 per cent\n",
      "  EXT PARAMETER                                   STEP         FIRST   \n",
      "  NO.   NAME      VALUE            ERROR          SIZE      DERIVATIVE \n",
      "   1  p0           7.52620e+02   1.67563e+01  -4.48938e-03   4.05709e-08\n",
      "   2  p1           9.09204e+01   3.92270e-02   3.31470e-06   2.40169e-04\n",
      "   3  p2           2.34469e+00   4.34502e-02   2.18331e-05  -2.40812e-04\n",
      "   4  p3           5.48949e+00   2.98872e-01  -6.52326e-05   1.58055e-04\n",
      "   5  p4          -2.25256e-02   3.43054e-03   1.20555e-06   3.00455e-02\n"
     ]
    }
   ],
   "source": [
    "## ADD your fitting code here:\n",
    "fitResult = h_dimuon_mass.Fit(f2,'RS')"
   ]
  },
  {
   "cell_type": "code",
   "execution_count": 49,
   "metadata": {},
   "outputs": [
    {
     "data": {
      "image/png": "[encoded data removed]",
      "text/plain": [
       "<IPython.core.display.Image object>"
      ]
     },
     "metadata": {},
     "output_type": "display_data"
    }
   ],
   "source": [
    "h_dimuon_mass.Draw()\n",
    "c.Update()\n",
    "c.Draw()"
   ]
  },
  {
   "cell_type": "code",
   "execution_count": 50,
   "metadata": {},
   "outputs": [
    {
     "data": {
      "image/png": "[encoded data removed]",
      "text/plain": [
       "<IPython.core.display.Image object>"
      ]
     },
     "metadata": {},
     "output_type": "display_data"
    }
   ],
   "source": [
    "h_data = h_dimuon_mass.Clone()\n",
    "f2_gaus = r.TF1('f2_gaus','gaus(0)',75,105)\n",
    "f2_expo = r.TF1('f2_expo','expo(0)',75,105)\n",
    "for i in range(0,3): f2_gaus.SetParameter(i,f2.GetParameter(i))\n",
    "for i in range(3,5): f2_expo.SetParameter(i-3,f2.GetParameter(i))\n",
    "f2.Draw()\n",
    "f2_gaus.SetLineColor(r.kBlue)\n",
    "f2_expo.SetLineColor(r.kGreen)\n",
    "f2_gaus.Draw('same')\n",
    "f2_expo.Draw('same')\n",
    "h_data.Draw('same E')\n",
    "f2.GetYaxis().SetRangeUser(0,1000)\n",
    "c.Update()\n",
    "c.SetLogy(0)\n",
    "c.Draw()"
   ]
  },
  {
   "cell_type": "code",
   "execution_count": 51,
   "metadata": {},
   "outputs": [
    {
     "name": "stdout",
     "output_type": "stream",
     "text": [
      "Checking fit quality:\n",
      "chi2 = 222.768\n",
      "NDF = 25.000\n",
      "chi2/NDF = 8.911\n"
     ]
    }
   ],
   "source": [
    "## Now check your fit quality. Does it improve?\n",
    "chi2 = f2.GetChisquare()\n",
    "NDF  = f2.GetNDF()\n",
    "print('Checking fit quality:')\n",
    "print(\"chi2 = %.3f\\nNDF = %.3f\\nchi2/NDF = %.3f\"% (chi2,NDF, chi2/NDF))"
   ]
  },
  {
   "cell_type": "code",
   "execution_count": null,
   "metadata": {},
   "outputs": [],
   "source": []
  }
 ],
 "metadata": {
  "kernelspec": {
   "display_name": "Python 2",
   "language": "python",
   "name": "python2"
  },
  "language_info": {
   "codemirror_mode": {
    "name": "ipython",
    "version": 2
   },
   "file_extension": ".py",
   "mimetype": "text/x-python",
   "name": "python",
   "nbconvert_exporter": "python",
   "pygments_lexer": "ipython2",
   "version": "2.7.15"
  }
 },
 "nbformat": 4,
 "nbformat_minor": 2
}
